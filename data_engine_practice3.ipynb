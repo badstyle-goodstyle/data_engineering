{
  "nbformat": 4,
  "nbformat_minor": 0,
  "metadata": {
    "colab": {
      "provenance": [],
      "mount_file_id": "1XKIKmD-ebRLTtpeVlN5EdEyLqLkk4GyH",
      "authorship_tag": "ABX9TyNolEMEqA09TeKbeCJXI0zN",
      "include_colab_link": true
    },
    "kernelspec": {
      "name": "python3",
      "display_name": "Python 3"
    },
    "language_info": {
      "name": "python"
    }
  },
  "cells": [
    {
      "cell_type": "markdown",
      "metadata": {
        "id": "view-in-github",
        "colab_type": "text"
      },
      "source": [
        "<a href=\"https://colab.research.google.com/github/badstyle-goodstyle/data_engineering/blob/data_engine/data_engine_practice3.ipynb\" target=\"_parent\"><img src=\"https://colab.research.google.com/assets/colab-badge.svg\" alt=\"Open In Colab\"/></a>"
      ]
    },
    {
      "cell_type": "markdown",
      "source": [
        "## Предисловие:"
      ],
      "metadata": {
        "id": "RPJ3o6ytfjX8"
      }
    },
    {
      "cell_type": "code",
      "source": [
        "from IPython.display import HTML\n",
        "HTML(\"<h2><span style='font-family:Times New Roman'>\"\n",
        "  \"<span style='color:blue'>Выполнил</span>: Яковцев Дмитрий </span></h2>\"\n",
        "  \"<h3><span style='color:red'>Практическая работа №3</span>: \" \n",
        "  \"Работа с файлами\"\n",
        "  \"</span></h3>\")"
      ],
      "metadata": {
        "colab": {
          "base_uri": "https://localhost:8080/",
          "height": 101
        },
        "id": "-rWu_Ltoe8QF",
        "outputId": "5adeb113-e330-485d-d3da-f6ec742bdb9d"
      },
      "execution_count": 65,
      "outputs": [
        {
          "output_type": "execute_result",
          "data": {
            "text/plain": [
              "<IPython.core.display.HTML object>"
            ],
            "text/html": [
              "<h2><span style='font-family:Times New Roman'><span style='color:blue'>Выполнил</span>: Яковцев Дмитрий </span></h2><h3><span style='color:red'>Практическая работа №3</span>: Работа с файлами</span></h3>"
            ]
          },
          "metadata": {},
          "execution_count": 65
        }
      ]
    },
    {
      "cell_type": "markdown",
      "source": [
        "## Упражнение 1"
      ],
      "metadata": {
        "id": "4DQ7BAlMf-Bi"
      }
    },
    {
      "cell_type": "code",
      "source": [
        "HTML(\"<span style='font-weight:bold; font-size:16px; font-style: italic'>\"\n",
        "\"<p style='background:green; color:white; width:50%; padding: 4px; text-align: center; margin: 0 auto'>\"\n",
        "\"Создайте произвольный текстовый файл с несколькими\"\n",
        "\" строками произвольного текста.<br> Выведите в консоль строки файла, удалив\"\n",
        "\" лишние пробелы в начале и конце строк, если они есть.</p>\")"
      ],
      "metadata": {
        "colab": {
          "base_uri": "https://localhost:8080/",
          "height": 65
        },
        "id": "hihh6STagHX6",
        "outputId": "88989e43-b4df-44b4-ffdf-7ecd05926ddd"
      },
      "execution_count": 83,
      "outputs": [
        {
          "output_type": "execute_result",
          "data": {
            "text/plain": [
              "<IPython.core.display.HTML object>"
            ],
            "text/html": [
              "<span style='font-weight:bold; font-size:16px; font-style: italic'><p style='background:green; color:white; width:50%; padding: 4px; text-align: center; margin: 0 auto'>Создайте произвольный текстовый файл с несколькими строками произвольного текста.<br> Выведите в консоль строки файла, удалив лишние пробелы в начале и конце строк, если они есть.</p>"
            ]
          },
          "metadata": {},
          "execution_count": 83
        }
      ]
    },
    {
      "cell_type": "code",
      "execution_count": 66,
      "metadata": {
        "colab": {
          "base_uri": "https://localhost:8080/"
        },
        "id": "vSReOH5ArKvD",
        "outputId": "e569bc15-3f08-45e0-e03e-85d3d76d6c5a"
      },
      "outputs": [
        {
          "output_type": "stream",
          "name": "stdout",
          "text": [
            "Cоздайте произвольный \n",
            "текстовый файл \n",
            "с несколькими строками \n",
            "произвольного текста \n"
          ]
        }
      ],
      "source": [
        "def make_2d_array_from_it(str_data: list) -> list:\n",
        "    # Строки превращаются... в список (так работать удобнее).\n",
        "    list_data = []\n",
        "    for next_str in str_data:\n",
        "        temp_list = ''.join(next_str.replace('\\n', '')).split()\n",
        "        list_data.append(temp_list)\n",
        "\n",
        "    return list_data\n",
        "\n",
        "with open(\"lab3.txt\",'w') as file:\n",
        "  file.write(\"Cоздайте произвольный\\n\")\n",
        "  file.write(\"текстовый файл\\n\")\n",
        "  file.write(\" с несколькими строками\\n\")\n",
        "  file.write(\"произвольного текста\\n\")\n",
        "\n",
        "with open(\"lab3.txt\") as file:\n",
        "  lines = file.readlines()\n",
        "\n",
        "lines_2d = make_2d_array_from_it(lines)\n",
        "for line in lines_2d:\n",
        "  for data in line:\n",
        "    print(data, '', end='')\n",
        "  print()"
      ]
    },
    {
      "cell_type": "markdown",
      "source": [
        "## Упражнение 2"
      ],
      "metadata": {
        "id": "jjDi2xCgiKW6"
      }
    },
    {
      "cell_type": "code",
      "source": [
        "HTML(\"<span style='font-weight:bold; font-size:16px; font-style: italic'>\"\n",
        "\"<p style='background:green; color:white; width:50%; padding: 4px; text-align: center; margin: 0 auto'>\"\n",
        "\"Запишите в новый файл содержимое списка строк\"\n",
        "\"(каждую строку с новой строки).</p>\")"
      ],
      "metadata": {
        "colab": {
          "base_uri": "https://localhost:8080/",
          "height": 45
        },
        "id": "QVXelMCliPEK",
        "outputId": "27308997-105d-496b-ab5b-207a51004f46"
      },
      "execution_count": 84,
      "outputs": [
        {
          "output_type": "execute_result",
          "data": {
            "text/plain": [
              "<IPython.core.display.HTML object>"
            ],
            "text/html": [
              "<span style='font-weight:bold; font-size:16px; font-style: italic'><p style='background:green; color:white; width:50%; padding: 4px; text-align: center; margin: 0 auto'>Запишите в новый файл содержимое списка строк(каждую строку с новой строки).</p>"
            ]
          },
          "metadata": {},
          "execution_count": 84
        }
      ]
    },
    {
      "cell_type": "code",
      "source": [
        "def write_array(array, file_name):\n",
        " \"\"\"записывает строки из array в файл file_name\"\"\"\n",
        " with open(file_name, 'w') as f:\n",
        "   for line in array:\n",
        "     for data in line:\n",
        "       f.write(str(data))\n",
        "     f.write(\"\\n\")\n",
        "\n",
        "write_array(lines_2d, \"lab3_2.txt\")\n",
        "\n",
        "with open(\"lab3_2.txt\") as f:\n",
        "  print(f.read(), end='\\n')\n"
      ],
      "metadata": {
        "colab": {
          "base_uri": "https://localhost:8080/"
        },
        "id": "L7ciFqciPLaG",
        "outputId": "eabb1af1-4d86-4d42-e39b-f30e5aed2f94"
      },
      "execution_count": 63,
      "outputs": [
        {
          "output_type": "stream",
          "name": "stdout",
          "text": [
            "Cоздайтепроизвольный\n",
            "текстовыйфайл\n",
            "снесколькимистроками\n",
            "произвольноготекста\n",
            "\n"
          ]
        }
      ]
    },
    {
      "cell_type": "markdown",
      "source": [
        "## Упражнение 3"
      ],
      "metadata": {
        "id": "F4pWuIzejK9_"
      }
    },
    {
      "cell_type": "code",
      "source": [
        "HTML(\"<span style='font-weight:bold; font-size:16px; font-style: italic'>\"\n",
        "\"<p style='background:green; color:white; width:50%; padding: 4px; text-align: center; margin: 0 auto'>\"\n",
        "\"В архиве (main) дана файловая структура, состоящая из \"\n",
        "\"директорий и файлов. Необходимо распаковать этот архив (средствами языка \"\n",
        "\"python), и затем найти в данной файловой структуре все директории, в которых \"\n",
        "\"есть хотя бы один файл с расширением '.py'</p>\")"
      ],
      "metadata": {
        "colab": {
          "base_uri": "https://localhost:8080/",
          "height": 84
        },
        "id": "l-Xw9zJ6jNBn",
        "outputId": "4c2750a1-3728-47ad-d7e1-31f225cc1b1e"
      },
      "execution_count": 89,
      "outputs": [
        {
          "output_type": "execute_result",
          "data": {
            "text/plain": [
              "<IPython.core.display.HTML object>"
            ],
            "text/html": [
              "<span style='font-weight:bold; font-size:16px; font-style: italic'><p style='background:green; color:white; width:50%; padding: 4px; text-align: center; margin: 0 auto'>В архиве (main) дана файловая структура, состоящая из директорий и файлов. Необходимо распаковать этот архив (средствами языка python), и затем найти в данной файловой структуре все директории, в которых есть хотя бы один файл с расширением '.py'</p>"
            ]
          },
          "metadata": {},
          "execution_count": 89
        }
      ]
    },
    {
      "cell_type": "code",
      "source": [
        "import os\n",
        "import shutil\n",
        "import zipfile\n",
        "\n",
        "shutil.copy(\"drive/MyDrive/data_engineering/main.zip\", \"main.zip\")\n",
        "with zipfile.ZipFile(\"main.zip\",\"r\") as zip_ref:\n",
        "    zip_ref.extractall(\"targetdir\")"
      ],
      "metadata": {
        "id": "wjKksqllRGed"
      },
      "execution_count": 13,
      "outputs": []
    },
    {
      "cell_type": "code",
      "source": [
        "dummy_array = []\n",
        "for current_dir, dirs, files in os.walk(\"targetdir\"):\n",
        "  for file in files:\n",
        "    if str(file[-3:]) == \".py\":\n",
        "      dummy_array.append((current_dir) + \"/\" + str(file))\n",
        "\n",
        "print(dummy_array)\n",
        "write_array(dummy_array, \"lab3_3.txt\")"
      ],
      "metadata": {
        "id": "Mc6QEavnSHmd",
        "colab": {
          "base_uri": "https://localhost:8080/"
        },
        "outputId": "145e99e1-3fdb-4e94-f671-b1815228a257"
      },
      "execution_count": 12,
      "outputs": [
        {
          "output_type": "stream",
          "name": "stdout",
          "text": [
            "['targetdir/main/myjqk.py', 'targetdir/main/yvgwm.py', 'targetdir/main/iwohr.py', 'targetdir/main/fpyfb.py', 'targetdir/main/nrlqk.py', 'targetdir/main/suvtu.py', 'targetdir/main/wxhtw.py', 'targetdir/main/fjcnm.py', 'targetdir/main/nelpv.py', 'targetdir/main/lzccb.py', 'targetdir/main/jogpz.py', 'targetdir/main/qcdrm.py', 'targetdir/main/zduna/ywucw/rwejw.py', 'targetdir/main/zduna/ywucw/rjjzv.py', 'targetdir/main/zduna/ywucw/ixrqq.py', 'targetdir/main/lqbli/otofk/ybrdw.py', 'targetdir/main/lqbli/otofk/pbidc.py', 'targetdir/main/lqbli/otofk/akmok.py', 'targetdir/main/lqbli/otofk/armko/kchnx.py', 'targetdir/main/olmhl/mmtsz/elpwr.py', 'targetdir/main/olmhl/mmtsz/hamfm.py', 'targetdir/main/olmhl/mmtsz/rsolr.py', 'targetdir/main/olmhl/mmtsz/ngutc.py', 'targetdir/main/olmhl/mmtsz/nujko/ywjka/kisdi.py', 'targetdir/main/olmhl/mmtsz/nujko/ywjka/ailhc.py', 'targetdir/main/olmhl/mmtsz/nujko/ywjka/pxjip/lmrtv.py', 'targetdir/main/olmhl/mmtsz/nujko/ywjka/pxjip/ssfuy.py', 'targetdir/main/olmhl/mmtsz/nujko/ywjka/pxjip/mcvwk.py', 'targetdir/main/olmhl/mmtsz/nujko/ywjka/pxjip/aniue.py', 'targetdir/main/olmhl/mmtsz/nujko/ywjka/pxjip/wthmo/kdfnf.py', 'targetdir/main/olmhl/mmtsz/nujko/ywjka/pxjip/wthmo/ewpru.py', 'targetdir/main/olmhl/mmtsz/nujko/ywjka/pxjip/wthmo/puzpd.py', 'targetdir/main/olmhl/mmtsz/nujko/ywjka/pxjip/wthmo/wtgrc/gwqic.py', 'targetdir/main/olmhl/mmtsz/nujko/ywjka/pxjip/wthmo/wtgrc/smnsc.py', 'targetdir/main/olmhl/mmtsz/nujko/ywjka/pxjip/wthmo/wtgrc/kztxg/qwlrx/hstyv.py', 'targetdir/main/olmhl/mmtsz/nujko/ywjka/pxjip/wthmo/wtgrc/kztxg/qwlrx/blvtq.py', 'targetdir/main/olmhl/mmtsz/nujko/ywjka/pxjip/wthmo/wtgrc/kztxg/qwlrx/hzhfn.py', 'targetdir/main/olmhl/mmtsz/nujko/ywjka/pxjip/wthmo/wtgrc/kztxg/qwlrx/loqtf.py', 'targetdir/main/olmhl/mmtsz/nujko/ywjka/pxjip/wthmo/wtgrc/kztxg/qwlrx/lirot/auwzy.py', 'targetdir/main/olmhl/mmtsz/nujko/ywjka/pxjip/wthmo/wtgrc/kztxg/qwlrx/djozj/ptdnq.py', 'targetdir/main/olmhl/mmtsz/nujko/ywjka/pxjip/wthmo/wtgrc/kztxg/qwlrx/nfcxf/uvmef.py', 'targetdir/main/olmhl/mmtsz/nujko/ywjka/pxjip/wthmo/wtgrc/zfukg/yqthe.py', 'targetdir/main/olmhl/mmtsz/nujko/ywjka/pxjip/wthmo/wtgrc/zfukg/vtsov.py', 'targetdir/main/olmhl/mmtsz/nujko/ywjka/pxjip/wthmo/wtgrc/zfukg/exewx.py', 'targetdir/main/olmhl/mmtsz/nujko/ywjka/pxjip/wthmo/wtgrc/zfukg/wggct.py', 'targetdir/main/olmhl/mmtsz/nujko/ywjka/pxjip/wthmo/wtgrc/zfukg/ncajz.py', 'targetdir/main/olmhl/mmtsz/nujko/ywjka/pxjip/wthmo/wtgrc/zfukg/xcarh.py', 'targetdir/main/olmhl/mmtsz/nujko/ywjka/pxjip/wthmo/wtgrc/zfukg/vydse/yzhtw.py', 'targetdir/main/olmhl/mmtsz/nujko/ywjka/pxjip/wthmo/wtgrc/zfukg/cazio/zxxeu.py', 'targetdir/main/olmhl/mmtsz/nujko/ywjka/pxjip/wthmo/wtgrc/zfukg/cazio/zkakj.py', 'targetdir/main/olmhl/mmtsz/nujko/ywjka/pxjip/wthmo/wtgrc/zfukg/cazio/sosdj/kjava.py', 'targetdir/main/olmhl/mmtsz/nujko/ywjka/pxjip/wthmo/wtgrc/zfukg/cazio/sosdj/yujjk/tmonk.py', 'targetdir/main/olmhl/mmtsz/nujko/ywjka/pxjip/wthmo/wtgrc/zfukg/cazio/sosdj/rcsvd/lmyue.py', 'targetdir/main/olmhl/mmtsz/nujko/ywjka/pxjip/wthmo/wtgrc/zfukg/cazio/sosdj/uuyrs/lzvgo.py', 'targetdir/main/olmhl/mmtsz/nujko/ywjka/pxjip/wthmo/wtgrc/zfukg/jvmme/ycnmt.py', 'targetdir/main/olmhl/mmtsz/nujko/ywjka/pxjip/wthmo/wtgrc/zfukg/jvmme/wvwva/ghtwx.py', 'targetdir/main/olmhl/mmtsz/nujko/ywjka/pxjip/wthmo/wtgrc/zfukg/jvmme/wvwva/fwutv.py', 'targetdir/main/olmhl/mmtsz/nujko/ywjka/pxjip/wthmo/wtgrc/zfukg/jvmme/wvwva/ehaxe.py', 'targetdir/main/olmhl/mmtsz/nujko/ywjka/pxjip/wthmo/wtgrc/zfukg/jvmme/wvwva/jebnq/kjmeo/jfckr.py', 'targetdir/main/olmhl/mmtsz/nujko/ywjka/pxjip/wthmo/wtgrc/zfukg/jvmme/wvwva/jebnq/phcud/oehnz.py', 'targetdir/main/olmhl/mmtsz/nujko/ywjka/pxjip/wthmo/wtgrc/zfukg/jvmme/eayzq/nuiwj/qtfig.py', 'targetdir/main/olmhl/mmtsz/nujko/ywjka/pxjip/wthmo/wtgrc/zfukg/jvmme/eayzq/tixoq/lldpv/hzgem.py', 'targetdir/main/olmhl/mmtsz/nujko/ywjka/pxjip/wthmo/wtgrc/zfukg/jvmme/eayzq/tixoq/lldpv/nzmgi.py', 'targetdir/main/olmhl/mmtsz/nujko/ywjka/pxjip/wthmo/wtgrc/zfukg/jvmme/eayzq/tixoq/lldpv/qxkag.py', 'targetdir/main/olmhl/mmtsz/nujko/ywjka/pxjip/wthmo/wtgrc/zfukg/jvmme/eayzq/isyki/sxnyt.py', 'targetdir/main/olmhl/mmtsz/nujko/ywjka/pxjip/wthmo/wtgrc/zfukg/jvmme/eayzq/isyki/pqzao.py', 'targetdir/main/olmhl/mmtsz/nujko/ywjka/pxjip/wthmo/wtgrc/zfukg/jvmme/eayzq/wfnda/wenln.py', 'targetdir/main/olmhl/mmtsz/nujko/ywjka/pxjip/wthmo/wtgrc/zfukg/jvmme/kehsm/racex.py', 'targetdir/main/olmhl/mmtsz/nujko/ywjka/pxjip/wthmo/wtgrc/zfukg/jvmme/vynzv/qtxsm.py', 'targetdir/main/olmhl/mmtsz/nujko/ywjka/pxjip/wthmo/wtgrc/juoxd/hjgdf.py', 'targetdir/main/olmhl/mmtsz/nujko/ywjka/pxjip/wthmo/wtgrc/mgplg/rbyav/bxijj.py', 'targetdir/main/olmhl/mmtsz/nujko/ywjka/pxjip/wthmo/wtgrc/mgplg/rbyav/xipxd.py', 'targetdir/main/olmhl/mmtsz/nujko/ywjka/pxjip/wthmo/wtgrc/mgplg/rbyav/uaodv/dikzy.py', 'targetdir/main/olmhl/mmtsz/nujko/ywjka/pxjip/wthmo/wtgrc/mgplg/rbyav/ppeir/subdi/wmlla.py', 'targetdir/main/olmhl/mmtsz/nujko/ywjka/pxjip/wthmo/wtgrc/mgplg/rbyav/ppeir/subdi/eihrp.py', 'targetdir/main/olmhl/mmtsz/nujko/ywjka/pxjip/wthmo/wtgrc/mgplg/rbyav/ppeir/subdi/cqugd.py', 'targetdir/main/olmhl/mmtsz/nujko/ywjka/pxjip/wthmo/wtgrc/mgplg/rbyav/ppeir/subdi/fwxhe.py', 'targetdir/main/olmhl/mmtsz/nujko/ywjka/pxjip/wthmo/wtgrc/mgplg/rbyav/ppeir/subdi/cbdqd.py', 'targetdir/main/olmhl/mmtsz/nujko/ywjka/pxjip/wthmo/wtgrc/mgplg/rbyav/ppeir/subdi/ccyrz.py', 'targetdir/main/olmhl/mmtsz/nujko/ywjka/pxjip/wthmo/wtgrc/mgplg/rbyav/ppeir/subdi/ptykj.py', 'targetdir/main/olmhl/mmtsz/nujko/ywjka/pxjip/wthmo/wtgrc/mgplg/rbyav/ppeir/subdi/uiwot.py', 'targetdir/main/olmhl/mmtsz/nujko/ywjka/pxjip/wthmo/wtgrc/mgplg/rbyav/ppeir/subdi/zljoz/swqks.py', 'targetdir/main/olmhl/mmtsz/nujko/ywjka/pxjip/wthmo/wtgrc/mgplg/rbyav/ppeir/subdi/zljoz/tkmtk.py', 'targetdir/main/olmhl/mmtsz/nujko/ywjka/pxjip/wthmo/wtgrc/mgplg/rbyav/ppeir/subdi/zljoz/sgmoj/zxoah.py', 'targetdir/main/olmhl/mmtsz/nujko/ywjka/pxjip/wthmo/wtgrc/mgplg/rbyav/ppeir/subdi/zljoz/sgmoj/oteke.py', 'targetdir/main/olmhl/mmtsz/nujko/ywjka/pxjip/wthmo/wtgrc/mgplg/rbyav/ppeir/subdi/zljoz/kgdme/efipd.py', 'targetdir/main/olmhl/mmtsz/nujko/ywjka/pxjip/wthmo/wtgrc/mgplg/rbyav/ppeir/subdi/zljoz/kgdme/thrcn.py', 'targetdir/main/olmhl/mmtsz/nujko/ywjka/pxjip/wthmo/wtgrc/mgplg/rbyav/ppeir/subdi/zljoz/kgdme/vwicr.py', 'targetdir/main/olmhl/mmtsz/nujko/ywjka/pxjip/wthmo/wtgrc/mgplg/rbyav/ppeir/subdi/zljoz/kgdme/euduy.py', 'targetdir/main/olmhl/mmtsz/nujko/ywjka/pxjip/wthmo/wtgrc/mgplg/rbyav/ppeir/subdi/zljoz/kgdme/evnvn/axqur/snjsf.py', 'targetdir/main/olmhl/mmtsz/nujko/ywjka/pxjip/wthmo/wtgrc/mgplg/rbyav/ppeir/subdi/zljoz/kgdme/evnvn/axqur/itkcz/rvjcx.py', 'targetdir/main/olmhl/mmtsz/nujko/ywjka/pxjip/wthmo/wtgrc/mgplg/rbyav/ppeir/subdi/zljoz/kgdme/evnvn/axqur/itkcz/hoyms.py', 'targetdir/main/olmhl/mmtsz/nujko/ywjka/pxjip/wthmo/wtgrc/mgplg/rbyav/ppeir/subdi/zljoz/kgdme/evnvn/axqur/itkcz/nnzmq.py', 'targetdir/main/olmhl/mmtsz/nujko/ywjka/pxjip/wthmo/wtgrc/mgplg/rbyav/ppeir/subdi/zljoz/kgdme/jhhbu/dufxr/mvznr.py', 'targetdir/main/olmhl/mmtsz/nujko/ywjka/pxjip/wthmo/wtgrc/mgplg/rbyav/ppeir/subdi/zljoz/kgdme/jhhbu/dufxr/hlgup/wxxzu.py', 'targetdir/main/olmhl/mmtsz/nujko/ywjka/pxjip/wthmo/wtgrc/mgplg/rbyav/ppeir/subdi/zljoz/kgdme/jhhbu/dufxr/hlgup/auqky/afymg.py', 'targetdir/main/olmhl/mmtsz/nujko/ywjka/pxjip/wthmo/wtgrc/mgplg/rbyav/ppeir/subdi/zljoz/kgdme/jhhbu/dufxr/sxojq/ltedx.py', 'targetdir/main/olmhl/mmtsz/nujko/ywjka/pxjip/wthmo/wtgrc/mgplg/rbyav/ppeir/subdi/zljoz/kgdme/jhhbu/dufxr/sxojq/frdru.py', 'targetdir/main/olmhl/mmtsz/nujko/ywjka/pxjip/wthmo/wtgrc/mgplg/rbyav/ppeir/subdi/zljoz/kgdme/jhhbu/dufxr/xroxl/lagpy.py', 'targetdir/main/olmhl/mmtsz/nujko/ywjka/pxjip/wthmo/wtgrc/mgplg/rbyav/ppeir/subdi/zljoz/kgdme/jhhbu/dufxr/xroxl/rgunj/bdcjg/lgunz.py', 'targetdir/main/olmhl/mmtsz/nujko/ywjka/pxjip/wthmo/wtgrc/mgplg/rbyav/ppeir/subdi/zljoz/kgdme/jhhbu/dufxr/xroxl/rgunj/bdcjg/ktkfx/mkydd.py', 'targetdir/main/olmhl/mmtsz/nujko/ywjka/pxjip/wthmo/wtgrc/mgplg/rbyav/ppeir/subdi/zljoz/kgdme/jhhbu/dufxr/xroxl/rgunj/bdcjg/xpmcm/eslhq.py', 'targetdir/main/olmhl/mmtsz/nujko/ywjka/pxjip/wthmo/wtgrc/mgplg/rbyav/ppeir/subdi/zljoz/kgdme/jhhbu/dufxr/xroxl/rgunj/bdcjg/vkntp/nujsg.py', 'targetdir/main/olmhl/mmtsz/nujko/ywjka/pxjip/wthmo/wtgrc/mgplg/rbyav/ppeir/subdi/zljoz/kgdme/jhhbu/dufxr/xroxl/rgunj/bdcjg/vkntp/rjqjr/megyo.py', 'targetdir/main/olmhl/mmtsz/nujko/ywjka/pxjip/wthmo/wtgrc/mgplg/rbyav/ppeir/subdi/zljoz/kgdme/jhhbu/dufxr/xroxl/abslw/urqac.py', 'targetdir/main/olmhl/mmtsz/nujko/ywjka/pxjip/wthmo/wtgrc/mgplg/rbyav/ppeir/subdi/zljoz/kgdme/jhhbu/rnqwd/obcpa.py', 'targetdir/main/olmhl/mmtsz/nujko/ywjka/pxjip/wthmo/wtgrc/mgplg/rbyav/ppeir/subdi/zljoz/kgdme/jhhbu/rnqwd/sbjht.py', 'targetdir/main/olmhl/mmtsz/nujko/ywjka/pxjip/wthmo/wtgrc/mgplg/rbyav/ppeir/subdi/zljoz/kgdme/jhhbu/rnqwd/purto/uvulr.py', 'targetdir/main/olmhl/mmtsz/nujko/ywjka/pxjip/wthmo/wtgrc/mgplg/rbyav/ppeir/subdi/zljoz/kgdme/jhhbu/rnqwd/purto/zbqui.py', 'targetdir/main/olmhl/mmtsz/nujko/ywjka/pxjip/wthmo/wtgrc/mgplg/rbyav/ppeir/subdi/zljoz/kgdme/jhhbu/rnqwd/purto/sjhjd.py', 'targetdir/main/olmhl/mmtsz/nujko/ywjka/pxjip/wthmo/wtgrc/mgplg/rbyav/ppeir/subdi/zljoz/kgdme/jhhbu/rnqwd/purto/zclmh.py', 'targetdir/main/olmhl/mmtsz/nujko/ywjka/pxjip/wthmo/wtgrc/mgplg/rbyav/ppeir/subdi/zljoz/kgdme/jhhbu/rnqwd/purto/trope.py', 'targetdir/main/olmhl/mmtsz/nujko/ywjka/pxjip/wthmo/wtgrc/mgplg/rbyav/ppeir/subdi/zljoz/kgdme/jhhbu/rnqwd/purto/ssjjr.py', 'targetdir/main/olmhl/mmtsz/nujko/ywjka/pxjip/wthmo/wtgrc/mgplg/rbyav/ppeir/subdi/zljoz/kgdme/jhhbu/rnqwd/purto/bkfog/dndhe.py', 'targetdir/main/olmhl/mmtsz/nujko/ywjka/pxjip/wthmo/wtgrc/mgplg/rbyav/ppeir/subdi/zljoz/kgdme/jhhbu/rnqwd/purto/bkfog/drkat.py', 'targetdir/main/olmhl/mmtsz/nujko/ywjka/pxjip/wthmo/wtgrc/mgplg/rbyav/ppeir/subdi/zljoz/kgdme/jhhbu/rnqwd/purto/bkfog/rvsfo/girkd.py', 'targetdir/main/olmhl/mmtsz/nujko/ywjka/pxjip/wthmo/wtgrc/mgplg/rbyav/ppeir/subdi/zljoz/kgdme/jhhbu/rnqwd/purto/bkfog/rvsfo/rpnzm/kxafz.py', 'targetdir/main/olmhl/mmtsz/nujko/ywjka/pxjip/wthmo/wtgrc/mgplg/rbyav/ppeir/subdi/zljoz/kgdme/jhhbu/rnqwd/purto/bkfog/rvsfo/rpnzm/wqsqb.py', 'targetdir/main/olmhl/mmtsz/nujko/ywjka/pxjip/wthmo/wtgrc/mgplg/rbyav/ppeir/subdi/zljoz/kgdme/jhhbu/rnqwd/purto/bkfog/rvsfo/rpnzm/kholn.py', 'targetdir/main/olmhl/mmtsz/nujko/ywjka/pxjip/wthmo/wtgrc/mgplg/rbyav/ppeir/subdi/zljoz/kgdme/jhhbu/rnqwd/purto/bkfog/rvsfo/rpnzm/cdlnj.py', 'targetdir/main/olmhl/mmtsz/nujko/ywjka/pxjip/wthmo/wtgrc/mgplg/rbyav/ppeir/subdi/zljoz/kgdme/jhhbu/rnqwd/purto/bkfog/rvsfo/rpnzm/ilogc/qtadz.py', 'targetdir/main/olmhl/mmtsz/nujko/ywjka/pxjip/wthmo/wtgrc/mgplg/rbyav/ppeir/subdi/zljoz/kgdme/jhhbu/rnqwd/purto/bkfog/rvsfo/rpnzm/ilogc/reshp/czkpi.py', 'targetdir/main/olmhl/mmtsz/nujko/ywjka/pxjip/wthmo/wtgrc/mgplg/rbyav/ppeir/subdi/zljoz/kgdme/jhhbu/rnqwd/purto/bkfog/rvsfo/rpnzm/ilogc/reshp/wevmv.py', 'targetdir/main/olmhl/mmtsz/nujko/ywjka/pxjip/wthmo/wtgrc/mgplg/rbyav/ppeir/subdi/zljoz/kgdme/jhhbu/rnqwd/purto/bkfog/rvsfo/rpnzm/ilogc/reshp/raznl.py', 'targetdir/main/olmhl/mmtsz/nujko/ywjka/pxjip/wthmo/wtgrc/mgplg/rbyav/ppeir/subdi/zljoz/kgdme/jhhbu/rnqwd/purto/bkfog/rvsfo/rpnzm/kafov/uifjw.py', 'targetdir/main/olmhl/mmtsz/nujko/ywjka/pxjip/wthmo/wtgrc/mgplg/rbyav/ppeir/subdi/zljoz/kgdme/jhhbu/rnqwd/purto/bkfog/rvsfo/rpnzm/kafov/iites/ygtox/bpmhg/ssizd.py', 'targetdir/main/olmhl/mmtsz/nujko/ywjka/pxjip/wthmo/wtgrc/mgplg/rbyav/ppeir/subdi/zljoz/kgdme/jhhbu/rnqwd/purto/bkfog/rvsfo/rpnzm/kafov/iites/ygtox/bpmhg/xoaoa.py', 'targetdir/main/olmhl/mmtsz/nujko/ywjka/pxjip/wthmo/wtgrc/mgplg/rbyav/ppeir/subdi/zljoz/kgdme/jhhbu/rnqwd/purto/bkfog/rvsfo/rpnzm/kafov/iites/ygtox/rhvqn/lxlbl.py', 'targetdir/main/olmhl/mmtsz/nujko/ywjka/pxjip/wthmo/wtgrc/mgplg/rbyav/ppeir/subdi/zljoz/kgdme/jhhbu/rnqwd/purto/bkfog/rvsfo/rpnzm/kafov/iites/ygtox/rhvqn/ggfcr/qqqpe.py', 'targetdir/main/olmhl/mmtsz/nujko/ywjka/pxjip/wthmo/wtgrc/mgplg/rbyav/ppeir/subdi/zljoz/kgdme/jhhbu/rnqwd/purto/bkfog/rvsfo/rpnzm/kafov/iites/ygtox/rhvqn/ggfcr/taevp.py', 'targetdir/main/olmhl/mmtsz/nujko/ywjka/pxjip/wthmo/wtgrc/mgplg/rbyav/ppeir/subdi/zljoz/kgdme/jhhbu/rnqwd/purto/bkfog/rvsfo/rpnzm/kafov/iites/ygtox/rhvqn/ggfcr/cgzfk.py', 'targetdir/main/olmhl/mmtsz/nujko/ywjka/pxjip/wthmo/wtgrc/mgplg/rbyav/ppeir/subdi/zljoz/kgdme/jhhbu/rnqwd/purto/bkfog/rvsfo/rpnzm/kafov/iites/ygtox/rhvqn/ggfcr/kxyxy/qrxwt/djwiq.py', 'targetdir/main/olmhl/mmtsz/nujko/ywjka/pxjip/wthmo/wtgrc/mgplg/rbyav/ppeir/subdi/zljoz/kgdme/jhhbu/rnqwd/purto/bkfog/rvsfo/gvbnv/qjicg.py', 'targetdir/main/olmhl/mmtsz/nujko/ywjka/pxjip/wthmo/wtgrc/mgplg/rbyav/ppeir/subdi/zljoz/kgdme/jhhbu/rnqwd/purto/bsgqc/ujtgh/uhuvh.py', 'targetdir/main/olmhl/mmtsz/nujko/ywjka/pxjip/wthmo/wtgrc/mgplg/rbyav/ppeir/subdi/zljoz/kgdme/jhhbu/rnqwd/purto/bsgqc/ujtgh/aqqzt.py', 'targetdir/main/olmhl/mmtsz/nujko/ywjka/pxjip/wthmo/wtgrc/mgplg/rbyav/ppeir/subdi/zljoz/kgdme/jhhbu/rnqwd/purto/bsgqc/ujtgh/tyapv/dwwlp.py', 'targetdir/main/olmhl/mmtsz/nujko/ywjka/pxjip/wthmo/wtgrc/mgplg/rbyav/ppeir/subdi/zljoz/kgdme/jhhbu/rnqwd/purto/bsgqc/ujtgh/tyapv/vzkic.py', 'targetdir/main/olmhl/mmtsz/nujko/ywjka/pxjip/wthmo/wtgrc/mgplg/rbyav/ppeir/subdi/zljoz/kgdme/jhhbu/rnqwd/purto/bsgqc/ujtgh/tyapv/mrkmf.py', 'targetdir/main/olmhl/mmtsz/nujko/ywjka/pxjip/wthmo/wtgrc/mgplg/rbyav/ppeir/subdi/zljoz/kgdme/jhhbu/rnqwd/purto/hmnro/jtmnb/rvzlj.py', 'targetdir/main/olmhl/mmtsz/nujko/ywjka/pxjip/wthmo/wtgrc/mgplg/rbyav/ppeir/subdi/zljoz/xrvnu/rovjs.py', 'targetdir/main/olmhl/mmtsz/nujko/ywjka/pxjip/wthmo/wtgrc/mgplg/rbyav/ppeir/subdi/zljoz/xrvnu/dxvcb.py', 'targetdir/main/olmhl/mmtsz/nujko/ywjka/pxjip/wthmo/wtgrc/mgplg/rbyav/ppeir/subdi/afrqp/iaujh/edamr.py', 'targetdir/main/olmhl/mmtsz/nujko/ywjka/pxjip/wthmo/wtgrc/mgplg/rbyav/ppeir/subdi/afrqp/iaujh/jqjsg/wpqqa.py', 'targetdir/main/olmhl/mmtsz/nujko/ywjka/pxjip/wthmo/wtgrc/mgplg/rbyav/ppeir/subdi/afrqp/iaujh/jqjsg/nnrrb.py', 'targetdir/main/olmhl/mmtsz/nujko/ywjka/pxjip/wthmo/wtgrc/mgplg/rbyav/ppeir/subdi/afrqp/iaujh/jqjsg/xriod/ifjxk.py', 'targetdir/main/olmhl/mmtsz/nujko/ywjka/pxjip/wthmo/wtgrc/mgplg/rbyav/ppeir/subdi/afrqp/iaujh/jqnsz/ihdto.py', 'targetdir/main/olmhl/mmtsz/nujko/ywjka/pxjip/wthmo/wtgrc/mgplg/rbyav/ppeir/subdi/afrqp/iaujh/jqnsz/jqeou.py', 'targetdir/main/olmhl/mmtsz/nujko/ywjka/pxjip/wthmo/wtgrc/mgplg/rbyav/ppeir/subdi/afrqp/iaujh/jqnsz/cfbxr.py', 'targetdir/main/olmhl/mmtsz/nujko/ywjka/pxjip/wthmo/wtgrc/mgplg/rbyav/qosgw/qpajn.py', 'targetdir/main/olmhl/mmtsz/nujko/ywjka/pxjip/wthmo/wtgrc/grnfu/cubok.py', 'targetdir/main/olmhl/mmtsz/nujko/ywjka/pxjip/wthmo/rwwuw/xwmnb.py', 'targetdir/main/olmhl/mmtsz/nujko/ywjxy/isljh.py', 'targetdir/main/olmhl/mmtsz/phcap/udied.py', 'targetdir/main/uvvuz/ksfjq.py', 'targetdir/main/uvvuz/bmuav.py', 'targetdir/main/uvvuz/ksnof/vjvey.py', 'targetdir/main/mwhci/ttopz.py', 'targetdir/main/hgyoc/mcesa.py', 'targetdir/main/hgyoc/avzvc.py', 'targetdir/main/hgyoc/gvyia.py', 'targetdir/main/hgyoc/bnunx.py', 'targetdir/main/hgyoc/kwawh/lrzxd.py', 'targetdir/main/hgyoc/kwawh/rzgzv/yraxd.py', 'targetdir/main/hgyoc/kwawh/hapry/mejcl.py', 'targetdir/main/hgyoc/kwawh/hapry/pevsg.py', 'targetdir/main/hgyoc/ycbxr/ivjta/kfllc.py', 'targetdir/main/qkseh/fdfju.py', 'targetdir/main/qkseh/mmvbh.py', 'targetdir/main/frtrl/eaemw.py', 'targetdir/main/afkgv/bxdnn.py', 'targetdir/main/taivr/nvbgf.py', 'targetdir/main/taivr/bcsow/ceqnw.py', 'targetdir/main/taivr/yptwa/xsbzr/tpzyb.py', 'targetdir/main/taivr/yptwa/xsbzr/hcasz/ilitr/urguw/sjmeg/ddnaa/bffrb.py', 'targetdir/main/taivr/yptwa/xsbzr/hcasz/ilitr/urguw/sjmeg/ddnaa/lshgy.py', 'targetdir/main/taivr/yptwa/xsbzr/hcasz/ilitr/urguw/sjmeg/ddnaa/rvzwp.py', 'targetdir/main/taivr/yptwa/xsbzr/hcasz/ilitr/urguw/sjmeg/ddnaa/lszec/pmxrs.py', 'targetdir/main/taivr/yptwa/xsbzr/hcasz/ilitr/urguw/sjmeg/ddnaa/lszec/sknss.py', 'targetdir/main/taivr/yptwa/xsbzr/hcasz/ilitr/urguw/sjmeg/ddnaa/lszec/jleiq.py', 'targetdir/main/taivr/yptwa/xsbzr/hcasz/ilitr/urguw/sjmeg/ddnaa/lszec/wdftb/mhqps/vkvkp.py', 'targetdir/main/taivr/yptwa/xsbzr/hcasz/ilitr/urguw/sjmeg/ddnaa/lszec/wdftb/mhqps/uqqxx.py', 'targetdir/main/taivr/yptwa/xsbzr/hcasz/ilitr/urguw/sjmeg/ddnaa/ckaab/krlys.py', 'targetdir/main/taivr/yptwa/xsbzr/hcasz/ilitr/urguw/sjmeg/ddnaa/ckaab/zppuj.py', 'targetdir/main/taivr/yptwa/xsbzr/hcasz/ilitr/urguw/sjmeg/ddnaa/jxhbl/tpdvr/pfoyt.py', 'targetdir/main/taivr/yptwa/xsbzr/hcasz/ilitr/urguw/sjmeg/ddnaa/jxhbl/lradw/dnjsf.py', 'targetdir/main/taivr/yptwa/xsbzr/hcasz/ilitr/urguw/sjmeg/ddnaa/jxhbl/lradw/iglcm/equko.py', 'targetdir/main/taivr/yptwa/xsbzr/hcasz/ilitr/urguw/sjmeg/ddnaa/jxhbl/lradw/iglcm/cnems.py', 'targetdir/main/taivr/yptwa/xsbzr/hcasz/ilitr/urguw/sjmeg/ddnaa/jxhbl/lradw/iglcm/lfesp.py', 'targetdir/main/taivr/yptwa/xsbzr/hcasz/ilitr/urguw/sjmeg/ddnaa/jxhbl/lradw/iglcm/xpfmw.py', 'targetdir/main/taivr/yptwa/xsbzr/hcasz/ilitr/urguw/sjmeg/ddnaa/jxhbl/lradw/iglcm/wnzzk.py', 'targetdir/main/taivr/yptwa/xsbzr/hcasz/ilitr/joejy/cewmk.py', 'targetdir/main/zyczx/njkyn.py', 'targetdir/main/sitdc/kvayn.py', 'targetdir/main/ksuvk/xjrqt/wvtgk.py', 'targetdir/main/ksuvk/xjrqt/qdbqt/prkcp/dnyyv/nozbp.py', 'targetdir/main/ksuvk/xjrqt/qdbqt/prkcp/dnyyv/dbmss.py', 'targetdir/main/ksuvk/xjrqt/qdbqt/prkcp/dnyyv/jlife.py', 'targetdir/main/ksuvk/xjrqt/qdbqt/hotgx/dudeb.py', 'targetdir/main/ksuvk/xjrqt/qdbqt/hotgx/izwwv/zaxis.py', 'targetdir/main/ksuvk/xjrqt/qdbqt/hotgx/izwwv/yhgoq.py', 'targetdir/main/ksuvk/xjrqt/qdbqt/hotgx/izwwv/xfqqg.py']\n"
          ]
        }
      ]
    },
    {
      "cell_type": "markdown",
      "source": [
        "## Упражнение 4"
      ],
      "metadata": {
        "id": "N9uUfaatjvX6"
      }
    },
    {
      "cell_type": "code",
      "source": [
        "HTML(\"<span style='font-weight:bold; font-size:16px; font-style: italic'>\"\n",
        "\"<p style='background:green; color:white; width:50%; padding: 4px; text-align: center; margin: 0 auto'>\"\n",
        "\"1. Скопируйте данные (Каждая строка содержит одну запись \"\n",
        "\"сотрудника) из списка в файл с именем employee.json в выбранное вами место \"\n",
        "\"в вашей системе.</p>\")"
      ],
      "metadata": {
        "colab": {
          "base_uri": "https://localhost:8080/",
          "height": 65
        },
        "id": "srWxawyRj2iL",
        "outputId": "ace03184-cd32-4785-987e-d25e1f645d17"
      },
      "execution_count": 91,
      "outputs": [
        {
          "output_type": "execute_result",
          "data": {
            "text/plain": [
              "<IPython.core.display.HTML object>"
            ],
            "text/html": [
              "<span style='font-weight:bold; font-size:16px; font-style: italic'><p style='background:green; color:white; width:50%; padding: 4px; text-align: center; margin: 0 auto'>1. Скопируйте данные (Каждая строка содержит одну запись сотрудника) из списка в файл с именем employee.json в выбранное вами место в вашей системе.</p>"
            ]
          },
          "metadata": {},
          "execution_count": 91
        }
      ]
    },
    {
      "cell_type": "code",
      "source": [
        "shutil.copy(\"drive/MyDrive/data_engineering/employees.json\", \"employees.json\")"
      ],
      "metadata": {
        "colab": {
          "base_uri": "https://localhost:8080/",
          "height": 35
        },
        "id": "NrRjX0KcUrkk",
        "outputId": "319f42bb-1bb4-43fd-db33-ef8ed1bbc25d"
      },
      "execution_count": 14,
      "outputs": [
        {
          "output_type": "execute_result",
          "data": {
            "text/plain": [
              "'employees.json'"
            ],
            "application/vnd.google.colaboratory.intrinsic+json": {
              "type": "string"
            }
          },
          "metadata": {},
          "execution_count": 14
        }
      ]
    },
    {
      "cell_type": "code",
      "source": [
        "import json\n",
        "dummy_holder = []\n",
        "with open(\"employees.json\", encoding=\"utf-8\") as file:\n",
        "  for data in file:\n",
        "    dummy_holder.append(json.loads(data))\n",
        "\n",
        "for dummy in dummy_holder:\n",
        "  print(dummy)"
      ],
      "metadata": {
        "colab": {
          "base_uri": "https://localhost:8080/"
        },
        "id": "MMHZl591V28H",
        "outputId": "20949bd5-eb25-477b-9f20-7d840e8f96fd"
      },
      "execution_count": 53,
      "outputs": [
        {
          "output_type": "stream",
          "name": "stdout",
          "text": [
            "{'id': 1, 'first_name': 'Weidar', 'last_name': 'Smyth', 'email': 'wsmyth0@loc.gov', 'gender': 'Male', 'phone_numbers': ['550-543-4729'], 'addresses': [{'street_number': '344', 'street_name': 'Hallows', 'city': 'Ridgely', 'state': 'Maryland', 'postal_code': '21684'}]}\n",
            "{'id': 2, 'first_name': 'Emmit', 'last_name': 'Ogborn', 'email': 'eogborn1@wisc.edu', 'gender': 'Male', 'phone_numbers': ['374-344-7772', '427-353-9104', '349-982-6073'], 'addresses': [{'street_number': '4', 'street_name': 'Ryan', 'city': 'Waco', 'state': 'Texas', 'postal_code': '76796'}, {'street_number': '7', 'street_name': 'Holmberg', 'city': 'Milwaukee', 'state': 'Wisconsin', 'postal_code': '53205'}]}\n",
            "{'id': 3, 'first_name': 'Micah', 'last_name': 'Dadswell', 'email': 'mdadswell2@edublogs.org', 'gender': 'Male', 'phone_numbers': ['846-266-0132', '231-711-7352'], 'addresses': [{'street_number': '3', 'street_name': 'Buena Vista', 'city': 'Fort Worth', 'state': 'Texas', 'postal_code': '76162'}, {'street_number': '9865', 'street_name': 'Iowa', 'city': 'New York City', 'state': 'New York', 'postal_code': '10009'}, {'street_number': '6329', 'street_name': 'Division', 'city': 'Little Rock', 'state': 'Arkansas', 'postal_code': '72222'}]}\n",
            "{'id': 4, 'first_name': 'Berk', 'last_name': 'Cholwell', 'email': 'bcholwell3@who.int', 'gender': 'Male', 'phone_numbers': ['524-533-7218', '923-217-7826', '781-572-0303'], 'addresses': [{'street_number': '4231', 'street_name': 'Hallows', 'city': 'Nashville', 'state': 'Tennessee', 'postal_code': '37205'}]}\n",
            "{'id': 5, 'first_name': 'Haley', 'last_name': 'Basterfield', 'email': 'hbasterfield4@intel.com', 'gender': 'Male', 'phone_numbers': ['558-470-2433', '909-390-0161'], 'addresses': [{'street_number': '7', 'street_name': 'Shelley', 'city': 'Austin', 'state': 'Texas', 'postal_code': '78744'}]}\n",
            "{'id': 6, 'first_name': 'Siouxie', 'last_name': 'Bezley', 'email': 'sbezley5@xing.com', 'gender': 'Female', 'phone_numbers': ['135-434-5299', '512-602-1289', '909-175-5794'], 'addresses': [{'street_number': '82', 'street_name': 'Homewood', 'city': 'New Haven', 'state': 'Connecticut', 'postal_code': '06520'}, {'street_number': '39', 'street_name': 'Del Mar', 'city': 'Brea', 'state': 'California', 'postal_code': '92822'}, {'street_number': '9502', 'street_name': 'Lukken', 'city': 'Frankfort', 'state': 'Kentucky', 'postal_code': '40618'}, {'street_number': '01', 'street_name': 'Alpine', 'city': 'Des Moines', 'state': 'Iowa', 'postal_code': '50393'}, {'street_number': '283', 'street_name': 'Starling', 'city': 'Anchorage', 'state': 'Alaska', 'postal_code': '99522'}]}\n",
            "{'id': 7, 'first_name': 'Ursa', 'last_name': 'Grewes', 'email': 'ugrewes6@drupal.org', 'gender': 'Female', 'phone_numbers': ['366-797-5110', '226-782-7256'], 'addresses': [{'street_number': '31', 'street_name': 'Pleasure', 'city': 'Fort Myers', 'state': 'Florida', 'postal_code': '33906'}, {'street_number': '428', 'street_name': 'Charing Cross', 'city': 'New Orleans', 'state': 'Louisiana', 'postal_code': '70142'}, {'street_number': '23', 'street_name': 'Troy', 'city': 'Huntington Beach', 'state': 'California', 'postal_code': '92648'}, {'street_number': '7224', 'street_name': 'Anthes', 'city': 'Miami', 'state': 'Florida', 'postal_code': '33261'}, {'street_number': '08', 'street_name': 'Nancy', 'city': 'Columbus', 'state': 'Georgia', 'postal_code': '31914'}]}\n",
            "{'id': 8, 'first_name': 'Aviva', 'last_name': 'Ellaman', 'email': 'aellaman7@usda.gov', 'gender': 'Female', 'phone_numbers': ['367-676-4773', '230-436-9686'], 'addresses': [{'street_number': '79', 'street_name': 'Monica', 'city': 'Idaho Falls', 'state': 'Idaho', 'postal_code': '83405'}, {'street_number': '426', 'street_name': 'Ludington', 'city': 'Birmingham', 'state': 'Alabama', 'postal_code': '35225'}, {'street_number': '27214', 'street_name': 'Clemons', 'city': 'Orlando', 'state': 'Florida', 'postal_code': '32885'}, {'street_number': '7433', 'street_name': 'Merchant', 'city': 'Huntington', 'state': 'West Virginia', 'postal_code': '25716'}]}\n",
            "{'id': 9, 'first_name': 'Dina', 'last_name': 'Coots', 'email': 'dcoots8@omniture.com', 'gender': 'Female', 'phone_numbers': ['420-812-5769'], 'addresses': [{'street_number': '5636', 'street_name': 'Banding', 'city': 'Mobile', 'state': 'Alabama', 'postal_code': '36641'}, {'street_number': '77804', 'street_name': 'Vermont', 'city': 'Durham', 'state': 'North Carolina', 'postal_code': '27705'}]}\n",
            "{'id': 10, 'first_name': 'Terrill', 'last_name': 'Harnes', 'email': 'tharnes9@cargocollective.com', 'gender': 'Male', 'phone_numbers': ['545-327-8386', '330-475-1767'], 'addresses': [{'street_number': '5441', 'street_name': 'Randy', 'city': 'Atlanta', 'state': 'Georgia', 'postal_code': '31136'}, {'street_number': '05212', 'street_name': 'Rusk', 'city': 'Los Angeles', 'state': 'California', 'postal_code': '90030'}, {'street_number': '805', 'street_name': 'Prentice', 'city': 'Denver', 'state': 'Colorado', 'postal_code': '80204'}, {'street_number': '17', 'street_name': 'Ludington', 'city': 'Stamford', 'state': 'Connecticut', 'postal_code': '06922'}]}\n"
          ]
        }
      ]
    },
    {
      "cell_type": "code",
      "source": [
        "HTML(\"<span style='font-weight:bold; font-size:16px; font-style: italic'>\"\n",
        "\"<p style='background:green; color:white; width:30%; padding: 4px; text-align: center; margin: 0 auto'>\"\n",
        "\"2. Просмотрите данные и определите следующее: <br>\"\n",
        "\" -Тип каждого сотрудника<br>\"\n",
        "\" -Тип номера телефона<br>\"\n",
        "\" -Тип адресов</p>\")\n",
        "\n"
      ],
      "metadata": {
        "colab": {
          "base_uri": "https://localhost:8080/",
          "height": 104
        },
        "id": "7_ZyJy1akVOT",
        "outputId": "21d15914-2dac-4445-9e29-1c7515aa48b3"
      },
      "execution_count": 97,
      "outputs": [
        {
          "output_type": "execute_result",
          "data": {
            "text/plain": [
              "<IPython.core.display.HTML object>"
            ],
            "text/html": [
              "<span style='font-weight:bold; font-size:16px; font-style: italic'><p style='background:green; color:white; width:30%; padding: 4px; text-align: center; margin: 0 auto'>2. Просмотрите данные и определите следующее: <br> -Тип каждого сотрудника<br> -Тип номера телефона<br> -Тип адресов</p>"
            ]
          },
          "metadata": {},
          "execution_count": 97
        }
      ]
    },
    {
      "cell_type": "code",
      "source": [
        "print(\"ID: \" + str(type(dummy_holder[0][\"id\"])))\n",
        "print(\"Phone numbers: \" + str(type(dummy_holder[0][\"phone_numbers\"])))\n",
        "print(\"Addresses: \" + str(type(dummy_holder[0][\"addresses\"])))"
      ],
      "metadata": {
        "colab": {
          "base_uri": "https://localhost:8080/"
        },
        "id": "NLy8Rt8Fc4Tm",
        "outputId": "ac27cd7a-641b-4509-ca82-c8301ef935d7"
      },
      "execution_count": 59,
      "outputs": [
        {
          "output_type": "stream",
          "name": "stdout",
          "text": [
            "ID: <class 'int'>\n",
            "Phone numbers: <class 'list'>\n",
            "Addresses: <class 'list'>\n"
          ]
        }
      ]
    },
    {
      "cell_type": "code",
      "source": [
        "HTML(\"<span style='font-weight:bold; font-size:16px; font-style: italic'>\"\n",
        "\"<p style='background:green; color:white; width:30%; padding: 4px; text-align: center; margin: 0 auto'>\"\n",
        "\"3. Чтение данных JSON в список словарей</p>\")"
      ],
      "metadata": {
        "colab": {
          "base_uri": "https://localhost:8080/",
          "height": 45
        },
        "id": "1oBz3dHyk56M",
        "outputId": "dca92f27-a463-4030-ad53-0e925ef49890"
      },
      "execution_count": 98,
      "outputs": [
        {
          "output_type": "execute_result",
          "data": {
            "text/plain": [
              "<IPython.core.display.HTML object>"
            ],
            "text/html": [
              "<span style='font-weight:bold; font-size:16px; font-style: italic'><p style='background:green; color:white; width:30%; padding: 4px; text-align: center; margin: 0 auto'>3. Чтение данных JSON в список словарей</p>"
            ]
          },
          "metadata": {},
          "execution_count": 98
        }
      ]
    },
    {
      "cell_type": "code",
      "source": [
        "print(type(dummy_holder))\n",
        "print(dummy_holder)"
      ],
      "metadata": {
        "colab": {
          "base_uri": "https://localhost:8080/"
        },
        "id": "bgfHlXFNeH2o",
        "outputId": "12878a35-2af1-4040-ae16-b62c9b405b49"
      },
      "execution_count": 61,
      "outputs": [
        {
          "output_type": "stream",
          "name": "stdout",
          "text": [
            "<class 'list'>\n",
            "[{'id': 1, 'first_name': 'Weidar', 'last_name': 'Smyth', 'email': 'wsmyth0@loc.gov', 'gender': 'Male', 'phone_numbers': ['550-543-4729'], 'addresses': [{'street_number': '344', 'street_name': 'Hallows', 'city': 'Ridgely', 'state': 'Maryland', 'postal_code': '21684'}]}, {'id': 2, 'first_name': 'Emmit', 'last_name': 'Ogborn', 'email': 'eogborn1@wisc.edu', 'gender': 'Male', 'phone_numbers': ['374-344-7772', '427-353-9104', '349-982-6073'], 'addresses': [{'street_number': '4', 'street_name': 'Ryan', 'city': 'Waco', 'state': 'Texas', 'postal_code': '76796'}, {'street_number': '7', 'street_name': 'Holmberg', 'city': 'Milwaukee', 'state': 'Wisconsin', 'postal_code': '53205'}]}, {'id': 3, 'first_name': 'Micah', 'last_name': 'Dadswell', 'email': 'mdadswell2@edublogs.org', 'gender': 'Male', 'phone_numbers': ['846-266-0132', '231-711-7352'], 'addresses': [{'street_number': '3', 'street_name': 'Buena Vista', 'city': 'Fort Worth', 'state': 'Texas', 'postal_code': '76162'}, {'street_number': '9865', 'street_name': 'Iowa', 'city': 'New York City', 'state': 'New York', 'postal_code': '10009'}, {'street_number': '6329', 'street_name': 'Division', 'city': 'Little Rock', 'state': 'Arkansas', 'postal_code': '72222'}]}, {'id': 4, 'first_name': 'Berk', 'last_name': 'Cholwell', 'email': 'bcholwell3@who.int', 'gender': 'Male', 'phone_numbers': ['524-533-7218', '923-217-7826', '781-572-0303'], 'addresses': [{'street_number': '4231', 'street_name': 'Hallows', 'city': 'Nashville', 'state': 'Tennessee', 'postal_code': '37205'}]}, {'id': 5, 'first_name': 'Haley', 'last_name': 'Basterfield', 'email': 'hbasterfield4@intel.com', 'gender': 'Male', 'phone_numbers': ['558-470-2433', '909-390-0161'], 'addresses': [{'street_number': '7', 'street_name': 'Shelley', 'city': 'Austin', 'state': 'Texas', 'postal_code': '78744'}]}, {'id': 6, 'first_name': 'Siouxie', 'last_name': 'Bezley', 'email': 'sbezley5@xing.com', 'gender': 'Female', 'phone_numbers': ['135-434-5299', '512-602-1289', '909-175-5794'], 'addresses': [{'street_number': '82', 'street_name': 'Homewood', 'city': 'New Haven', 'state': 'Connecticut', 'postal_code': '06520'}, {'street_number': '39', 'street_name': 'Del Mar', 'city': 'Brea', 'state': 'California', 'postal_code': '92822'}, {'street_number': '9502', 'street_name': 'Lukken', 'city': 'Frankfort', 'state': 'Kentucky', 'postal_code': '40618'}, {'street_number': '01', 'street_name': 'Alpine', 'city': 'Des Moines', 'state': 'Iowa', 'postal_code': '50393'}, {'street_number': '283', 'street_name': 'Starling', 'city': 'Anchorage', 'state': 'Alaska', 'postal_code': '99522'}]}, {'id': 7, 'first_name': 'Ursa', 'last_name': 'Grewes', 'email': 'ugrewes6@drupal.org', 'gender': 'Female', 'phone_numbers': ['366-797-5110', '226-782-7256'], 'addresses': [{'street_number': '31', 'street_name': 'Pleasure', 'city': 'Fort Myers', 'state': 'Florida', 'postal_code': '33906'}, {'street_number': '428', 'street_name': 'Charing Cross', 'city': 'New Orleans', 'state': 'Louisiana', 'postal_code': '70142'}, {'street_number': '23', 'street_name': 'Troy', 'city': 'Huntington Beach', 'state': 'California', 'postal_code': '92648'}, {'street_number': '7224', 'street_name': 'Anthes', 'city': 'Miami', 'state': 'Florida', 'postal_code': '33261'}, {'street_number': '08', 'street_name': 'Nancy', 'city': 'Columbus', 'state': 'Georgia', 'postal_code': '31914'}]}, {'id': 8, 'first_name': 'Aviva', 'last_name': 'Ellaman', 'email': 'aellaman7@usda.gov', 'gender': 'Female', 'phone_numbers': ['367-676-4773', '230-436-9686'], 'addresses': [{'street_number': '79', 'street_name': 'Monica', 'city': 'Idaho Falls', 'state': 'Idaho', 'postal_code': '83405'}, {'street_number': '426', 'street_name': 'Ludington', 'city': 'Birmingham', 'state': 'Alabama', 'postal_code': '35225'}, {'street_number': '27214', 'street_name': 'Clemons', 'city': 'Orlando', 'state': 'Florida', 'postal_code': '32885'}, {'street_number': '7433', 'street_name': 'Merchant', 'city': 'Huntington', 'state': 'West Virginia', 'postal_code': '25716'}]}, {'id': 9, 'first_name': 'Dina', 'last_name': 'Coots', 'email': 'dcoots8@omniture.com', 'gender': 'Female', 'phone_numbers': ['420-812-5769'], 'addresses': [{'street_number': '5636', 'street_name': 'Banding', 'city': 'Mobile', 'state': 'Alabama', 'postal_code': '36641'}, {'street_number': '77804', 'street_name': 'Vermont', 'city': 'Durham', 'state': 'North Carolina', 'postal_code': '27705'}]}, {'id': 10, 'first_name': 'Terrill', 'last_name': 'Harnes', 'email': 'tharnes9@cargocollective.com', 'gender': 'Male', 'phone_numbers': ['545-327-8386', '330-475-1767'], 'addresses': [{'street_number': '5441', 'street_name': 'Randy', 'city': 'Atlanta', 'state': 'Georgia', 'postal_code': '31136'}, {'street_number': '05212', 'street_name': 'Rusk', 'city': 'Los Angeles', 'state': 'California', 'postal_code': '90030'}, {'street_number': '805', 'street_name': 'Prentice', 'city': 'Denver', 'state': 'Colorado', 'postal_code': '80204'}, {'street_number': '17', 'street_name': 'Ludington', 'city': 'Stamford', 'state': 'Connecticut', 'postal_code': '06922'}]}]\n"
          ]
        }
      ]
    },
    {
      "cell_type": "code",
      "source": [
        "HTML(\"<span style='font-weight:bold; font-size:16px; font-style: italic'>\"\n",
        "\"<p style='background:green; color:white; width:30%; padding: 4px; text-align: center; margin: 0 auto'>\"\n",
        "\"4. Получить количество элементов в словаре</p>\")"
      ],
      "metadata": {
        "colab": {
          "base_uri": "https://localhost:8080/",
          "height": 45
        },
        "id": "xzUbWL2LlGSk",
        "outputId": "fa8732ca-5030-4b33-ee64-1ba3fc02f592"
      },
      "execution_count": 99,
      "outputs": [
        {
          "output_type": "execute_result",
          "data": {
            "text/plain": [
              "<IPython.core.display.HTML object>"
            ],
            "text/html": [
              "<span style='font-weight:bold; font-size:16px; font-style: italic'><p style='background:green; color:white; width:30%; padding: 4px; text-align: center; margin: 0 auto'>4. Получить количество элементов в словаре</p>"
            ]
          },
          "metadata": {},
          "execution_count": 99
        }
      ]
    },
    {
      "cell_type": "code",
      "source": [
        "print(len(dummy_holder))"
      ],
      "metadata": {
        "colab": {
          "base_uri": "https://localhost:8080/"
        },
        "id": "TVI-jktqeToO",
        "outputId": "c4d63efd-2b32-4b0d-e9ed-93719e22f09e"
      },
      "execution_count": 62,
      "outputs": [
        {
          "output_type": "stream",
          "name": "stdout",
          "text": [
            "10\n"
          ]
        }
      ]
    }
  ]
}