{
  "nbformat": 4,
  "nbformat_minor": 0,
  "metadata": {
    "colab": {
      "provenance": [],
      "toc_visible": true,
      "authorship_tag": "ABX9TyPZzMaMWVnnwqt/04v2Nn+s",
      "include_colab_link": true
    },
    "kernelspec": {
      "name": "python3",
      "display_name": "Python 3"
    },
    "language_info": {
      "name": "python"
    }
  },
  "cells": [
    {
      "cell_type": "markdown",
      "metadata": {
        "id": "view-in-github",
        "colab_type": "text"
      },
      "source": [
        "<a href=\"https://colab.research.google.com/github/badstyle-goodstyle/data_engineering/blob/data_engine/data_engine_practice1.ipynb\" target=\"_parent\"><img src=\"https://colab.research.google.com/assets/colab-badge.svg\" alt=\"Open In Colab\"/></a>"
      ]
    },
    {
      "cell_type": "code",
      "source": [
        "import numpy as np"
      ],
      "metadata": {
        "id": "zxklw6p0hxfn"
      },
      "execution_count": 2,
      "outputs": []
    },
    {
      "cell_type": "markdown",
      "source": [
        "# Предисловие"
      ],
      "metadata": {
        "id": "sa8Y4NeDp6iY"
      }
    },
    {
      "cell_type": "markdown",
      "source": [
        "Выполнил: Яковцев Дмитрий"
      ],
      "metadata": {
        "id": "fXSunYXvhV-z"
      }
    },
    {
      "cell_type": "markdown",
      "source": [
        "Решите задания без использования циклов средствами NumPy (каждый\n",
        "пункт решается в 1-2 строчки):"
      ],
      "metadata": {
        "id": "zfOotwKrhG6_"
      }
    },
    {
      "cell_type": "markdown",
      "source": [
        "# Задача №1"
      ],
      "metadata": {
        "id": "_ujj2Hs4ov5G"
      }
    },
    {
      "cell_type": "markdown",
      "source": [
        "## Создайте вектор с элементами от 12 до 42."
      ],
      "metadata": {
        "id": "fxL9Hj3UhSCy"
      }
    },
    {
      "cell_type": "code",
      "execution_count": 3,
      "metadata": {
        "colab": {
          "base_uri": "https://localhost:8080/"
        },
        "id": "H6IrfcFlhEkh",
        "outputId": "0cc3924f-f11b-4b59-bee6-215e60f1cbb5"
      },
      "outputs": [
        {
          "output_type": "stream",
          "name": "stdout",
          "text": [
            "[12 13 14 15 16 17 18 19 20 21 22 23 24 25 26 27 28 29 30 31 32 33 34 35\n",
            " 36 37 38 39 40 41 42]\n"
          ]
        }
      ],
      "source": [
        "one = np.array(range(12,43))\n",
        "print(one)"
      ]
    },
    {
      "cell_type": "markdown",
      "source": [
        "# Задача №2"
      ],
      "metadata": {
        "id": "70ByQaYDo-32"
      }
    },
    {
      "cell_type": "markdown",
      "source": [
        "## Создайте вектор из нулей длины 12, но его пятый элемент должен быть равен 1."
      ],
      "metadata": {
        "id": "DkDSQu5Wh9By"
      }
    },
    {
      "cell_type": "code",
      "source": [
        "two = np.zeros(12, int)\n",
        "two[4] = 1\n",
        "print(two)"
      ],
      "metadata": {
        "colab": {
          "base_uri": "https://localhost:8080/"
        },
        "id": "6Lgmm52LiBfK",
        "outputId": "727e7b24-83ec-4d20-f416-1eeee8c92ec5"
      },
      "execution_count": 7,
      "outputs": [
        {
          "output_type": "stream",
          "name": "stdout",
          "text": [
            "[0 0 0 0 1 0 0 0 0 0 0 0]\n"
          ]
        }
      ]
    },
    {
      "cell_type": "markdown",
      "source": [
        "# Задача №3"
      ],
      "metadata": {
        "id": "gLWzluFepaZH"
      }
    },
    {
      "cell_type": "markdown",
      "source": [
        "## Создайте матрицу (3, 3), заполненную от 0 до 8."
      ],
      "metadata": {
        "id": "jGDsya99ib1i"
      }
    },
    {
      "cell_type": "code",
      "source": [
        "three = np.array(range(9)).reshape((3,3))\n",
        "print(three)"
      ],
      "metadata": {
        "colab": {
          "base_uri": "https://localhost:8080/"
        },
        "id": "3zdKRv1yieDz",
        "outputId": "8bd46e73-18da-4fb2-d807-a5c781deeb97"
      },
      "execution_count": 8,
      "outputs": [
        {
          "output_type": "stream",
          "name": "stdout",
          "text": [
            "[[0 1 2]\n",
            " [3 4 5]\n",
            " [6 7 8]]\n"
          ]
        }
      ]
    },
    {
      "cell_type": "markdown",
      "source": [
        "# Задача №4"
      ],
      "metadata": {
        "id": "K23JIwUGpkfX"
      }
    },
    {
      "cell_type": "markdown",
      "source": [
        "## Найдите все положительные числа в np.array([1,2,0,0,4,0])."
      ],
      "metadata": {
        "id": "kT4HYd-IiwsT"
      }
    },
    {
      "cell_type": "code",
      "source": [
        "four = np.array([1, 2, 0, 0, 4, 0])\n",
        "print(four[four > 0])"
      ],
      "metadata": {
        "colab": {
          "base_uri": "https://localhost:8080/"
        },
        "id": "FQ1HSALKiydq",
        "outputId": "49ff6f04-8faf-438c-9d1f-f8c933e699eb"
      },
      "execution_count": 10,
      "outputs": [
        {
          "output_type": "stream",
          "name": "stdout",
          "text": [
            "[1 2 4]\n"
          ]
        }
      ]
    },
    {
      "cell_type": "markdown",
      "source": [
        "# Задача №5"
      ],
      "metadata": {
        "id": "sgIY-pAMpttf"
      }
    },
    {
      "cell_type": "markdown",
      "source": [
        "## Умножьте матрицу размерности (5, 3) на (3, 2)."
      ],
      "metadata": {
        "id": "pICZBdWdjNSm"
      }
    },
    {
      "cell_type": "code",
      "source": [
        "a = np.floor(5 * np.random.random((5, 3)))\n",
        "b = np.floor(3 * np.random.random((3, 2)))\n",
        "print(\"A:\\n \", a, \"\\nB:\\n \", b)\n",
        "five = a.dot(b)\n",
        "print(\"A * B:\\n \", five)"
      ],
      "metadata": {
        "colab": {
          "base_uri": "https://localhost:8080/"
        },
        "id": "uwHux-_IjOsz",
        "outputId": "2a8fa7a4-1681-4fac-c727-7a852e422266"
      },
      "execution_count": 13,
      "outputs": [
        {
          "output_type": "stream",
          "name": "stdout",
          "text": [
            "A:\n",
            "  [[2. 3. 0.]\n",
            " [4. 3. 1.]\n",
            " [0. 4. 0.]\n",
            " [2. 0. 2.]\n",
            " [1. 2. 2.]] \n",
            "B:\n",
            "  [[1. 1.]\n",
            " [0. 0.]\n",
            " [2. 2.]]\n",
            "A * B:\n",
            "  [[2. 2.]\n",
            " [6. 6.]\n",
            " [0. 0.]\n",
            " [6. 6.]\n",
            " [5. 5.]]\n"
          ]
        }
      ]
    },
    {
      "cell_type": "markdown",
      "source": [
        "# Задача №6"
      ],
      "metadata": {
        "id": "MRDomFUtqI1v"
      }
    },
    {
      "cell_type": "markdown",
      "source": [
        "## Создайте матрицу (10, 10) так, чтобы на границе были 0, а внутри 1."
      ],
      "metadata": {
        "id": "YSm9sECDj_5b"
      }
    },
    {
      "cell_type": "code",
      "source": [
        "dummy_zero_hor = np.zeros((1, 10), dtype=int)\n",
        "six = np.ones((10, 10), dtype=int)\n",
        "six[0] = six[9] = dummy_zero_hor\n",
        "six[np.arange(10), 0] = 0\n",
        "six[np.arange(10), 9] = 0\n",
        "print(six)"
      ],
      "metadata": {
        "colab": {
          "base_uri": "https://localhost:8080/"
        },
        "id": "IMhQi2HCkXLy",
        "outputId": "c261d5cb-e37e-4278-c256-d949bc2f4b40"
      },
      "execution_count": 24,
      "outputs": [
        {
          "output_type": "stream",
          "name": "stdout",
          "text": [
            "[[0 0 0 0 0 0 0 0 0 0]\n",
            " [0 1 1 1 1 1 1 1 1 0]\n",
            " [0 1 1 1 1 1 1 1 1 0]\n",
            " [0 1 1 1 1 1 1 1 1 0]\n",
            " [0 1 1 1 1 1 1 1 1 0]\n",
            " [0 1 1 1 1 1 1 1 1 0]\n",
            " [0 1 1 1 1 1 1 1 1 0]\n",
            " [0 1 1 1 1 1 1 1 1 0]\n",
            " [0 1 1 1 1 1 1 1 1 0]\n",
            " [0 0 0 0 0 0 0 0 0 0]]\n"
          ]
        }
      ]
    },
    {
      "cell_type": "markdown",
      "source": [
        "# Задача №7"
      ],
      "metadata": {
        "id": "4MOBhIzWqThG"
      }
    },
    {
      "cell_type": "markdown",
      "source": [
        "## Создайте рандомный вектор и отсортируйте его."
      ],
      "metadata": {
        "id": "QJ2TMTcUnKiK"
      }
    },
    {
      "cell_type": "code",
      "source": [
        "dummy_vector = np.random.random_sample(5)\n",
        "print(dummy_vector)\n",
        "seven = np.sort(dummy_vector)\n",
        "print(seven)"
      ],
      "metadata": {
        "colab": {
          "base_uri": "https://localhost:8080/"
        },
        "id": "NB58JPDtnM5-",
        "outputId": "776c667a-ff55-4651-f97d-a585bd02ac70"
      },
      "execution_count": 31,
      "outputs": [
        {
          "output_type": "stream",
          "name": "stdout",
          "text": [
            "[0.73744215 0.70433209 0.23556935 0.34447499 0.16363657]\n",
            "[0.16363657 0.23556935 0.34447499 0.70433209 0.73744215]\n"
          ]
        }
      ]
    }
  ]
}