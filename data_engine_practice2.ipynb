{
  "nbformat": 4,
  "nbformat_minor": 0,
  "metadata": {
    "colab": {
      "provenance": [],
      "toc_visible": true,
      "mount_file_id": "1uFB56fEMbBbeLbyBJuEk6dhDGt3Dg5m2",
      "authorship_tag": "ABX9TyOZus92SCs5aWyfEEoFaBZz",
      "include_colab_link": true
    },
    "kernelspec": {
      "name": "python3",
      "display_name": "Python 3"
    },
    "language_info": {
      "name": "python"
    }
  },
  "cells": [
    {
      "cell_type": "markdown",
      "metadata": {
        "id": "view-in-github",
        "colab_type": "text"
      },
      "source": [
        "<a href=\"https://colab.research.google.com/github/badstyle-goodstyle/data_engineering/blob/data_engine/data_engine_practice2.ipynb\" target=\"_parent\"><img src=\"https://colab.research.google.com/assets/colab-badge.svg\" alt=\"Open In Colab\"/></a>"
      ]
    },
    {
      "cell_type": "markdown",
      "source": [
        "# Предисловие:"
      ],
      "metadata": {
        "id": "5pLg5BV-bvAx"
      }
    },
    {
      "cell_type": "code",
      "source": [
        "from IPython.display import HTML\n",
        "HTML(\"<h2><span style='font-family:Times New Roman'>\"\n",
        "  \"<span style='color:blue'>Выполнил</span>: Яковцев Дмитрий </span></h2>\"\n",
        "  \"<h3><span style='color:red'>Задача</span>: \" \n",
        "  \"Решите задачи средствами Pandas (данные в файле flight_delays.csv)\"\n",
        "  \"</span></h3>\")"
      ],
      "metadata": {
        "colab": {
          "base_uri": "https://localhost:8080/",
          "height": 101
        },
        "id": "CrO5eoP-dS7_",
        "outputId": "03cc010a-cd44-49e5-fcb8-562bb68b1ec4"
      },
      "execution_count": 124,
      "outputs": [
        {
          "output_type": "execute_result",
          "data": {
            "text/plain": [
              "<IPython.core.display.HTML object>"
            ],
            "text/html": [
              "<h2><span style='font-family:Times New Roman'><span style='color:blue'>Выполнил</span>: Яковцев Дмитрий </span></h2><h3><span style='color:red'>Задача</span>: Решите задачи средствами Pandas (данные в файле flight_delays.csv)</span></h3>"
            ]
          },
          "metadata": {},
          "execution_count": 124
        }
      ]
    },
    {
      "cell_type": "code",
      "execution_count": 5,
      "metadata": {
        "colab": {
          "base_uri": "https://localhost:8080/",
          "height": 363
        },
        "id": "VIW5KNUpvr9Y",
        "outputId": "45d7c823-1d70-4d77-a1e6-6ab54d96e394"
      },
      "outputs": [
        {
          "output_type": "execute_result",
          "data": {
            "text/plain": [
              "  Month DayofMonth DayOfWeek  DepTime UniqueCarrier Origin Dest  Distance  \\\n",
              "0   c-8       c-21       c-7     1934            AA    ATL  DFW       732   \n",
              "1   c-4       c-20       c-3     1548            US    PIT  MCO       834   \n",
              "2   c-9        c-2       c-5     1422            XE    RDU  CLE       416   \n",
              "3  c-11       c-25       c-6     1015            OO    DEN  MEM       872   \n",
              "4  c-10        c-7       c-6     1828            WN    MDW  OMA       423   \n",
              "5   c-8        c-3       c-4     1918            NW    MEM  MCO       683   \n",
              "6   c-1       c-27       c-4      754            DL    PBI  LGA      1035   \n",
              "7   c-4       c-29       c-6      635            OH    MSP  CVG       596   \n",
              "8   c-7       c-28       c-5      735            AA    ONT  DFW      1189   \n",
              "9   c-6       c-20       c-2     2029            OO    DEN  PSC       853   \n",
              "\n",
              "  dep_delayed_15min  \n",
              "0                 N  \n",
              "1                 N  \n",
              "2                 N  \n",
              "3                 N  \n",
              "4                 Y  \n",
              "5                 N  \n",
              "6                 N  \n",
              "7                 N  \n",
              "8                 N  \n",
              "9                 N  "
            ],
            "text/html": [
              "\n",
              "  <div id=\"df-9286f267-a86b-4ba3-9c6c-9642dc03fcdf\">\n",
              "    <div class=\"colab-df-container\">\n",
              "      <div>\n",
              "<style scoped>\n",
              "    .dataframe tbody tr th:only-of-type {\n",
              "        vertical-align: middle;\n",
              "    }\n",
              "\n",
              "    .dataframe tbody tr th {\n",
              "        vertical-align: top;\n",
              "    }\n",
              "\n",
              "    .dataframe thead th {\n",
              "        text-align: right;\n",
              "    }\n",
              "</style>\n",
              "<table border=\"1\" class=\"dataframe\">\n",
              "  <thead>\n",
              "    <tr style=\"text-align: right;\">\n",
              "      <th></th>\n",
              "      <th>Month</th>\n",
              "      <th>DayofMonth</th>\n",
              "      <th>DayOfWeek</th>\n",
              "      <th>DepTime</th>\n",
              "      <th>UniqueCarrier</th>\n",
              "      <th>Origin</th>\n",
              "      <th>Dest</th>\n",
              "      <th>Distance</th>\n",
              "      <th>dep_delayed_15min</th>\n",
              "    </tr>\n",
              "  </thead>\n",
              "  <tbody>\n",
              "    <tr>\n",
              "      <th>0</th>\n",
              "      <td>c-8</td>\n",
              "      <td>c-21</td>\n",
              "      <td>c-7</td>\n",
              "      <td>1934</td>\n",
              "      <td>AA</td>\n",
              "      <td>ATL</td>\n",
              "      <td>DFW</td>\n",
              "      <td>732</td>\n",
              "      <td>N</td>\n",
              "    </tr>\n",
              "    <tr>\n",
              "      <th>1</th>\n",
              "      <td>c-4</td>\n",
              "      <td>c-20</td>\n",
              "      <td>c-3</td>\n",
              "      <td>1548</td>\n",
              "      <td>US</td>\n",
              "      <td>PIT</td>\n",
              "      <td>MCO</td>\n",
              "      <td>834</td>\n",
              "      <td>N</td>\n",
              "    </tr>\n",
              "    <tr>\n",
              "      <th>2</th>\n",
              "      <td>c-9</td>\n",
              "      <td>c-2</td>\n",
              "      <td>c-5</td>\n",
              "      <td>1422</td>\n",
              "      <td>XE</td>\n",
              "      <td>RDU</td>\n",
              "      <td>CLE</td>\n",
              "      <td>416</td>\n",
              "      <td>N</td>\n",
              "    </tr>\n",
              "    <tr>\n",
              "      <th>3</th>\n",
              "      <td>c-11</td>\n",
              "      <td>c-25</td>\n",
              "      <td>c-6</td>\n",
              "      <td>1015</td>\n",
              "      <td>OO</td>\n",
              "      <td>DEN</td>\n",
              "      <td>MEM</td>\n",
              "      <td>872</td>\n",
              "      <td>N</td>\n",
              "    </tr>\n",
              "    <tr>\n",
              "      <th>4</th>\n",
              "      <td>c-10</td>\n",
              "      <td>c-7</td>\n",
              "      <td>c-6</td>\n",
              "      <td>1828</td>\n",
              "      <td>WN</td>\n",
              "      <td>MDW</td>\n",
              "      <td>OMA</td>\n",
              "      <td>423</td>\n",
              "      <td>Y</td>\n",
              "    </tr>\n",
              "    <tr>\n",
              "      <th>5</th>\n",
              "      <td>c-8</td>\n",
              "      <td>c-3</td>\n",
              "      <td>c-4</td>\n",
              "      <td>1918</td>\n",
              "      <td>NW</td>\n",
              "      <td>MEM</td>\n",
              "      <td>MCO</td>\n",
              "      <td>683</td>\n",
              "      <td>N</td>\n",
              "    </tr>\n",
              "    <tr>\n",
              "      <th>6</th>\n",
              "      <td>c-1</td>\n",
              "      <td>c-27</td>\n",
              "      <td>c-4</td>\n",
              "      <td>754</td>\n",
              "      <td>DL</td>\n",
              "      <td>PBI</td>\n",
              "      <td>LGA</td>\n",
              "      <td>1035</td>\n",
              "      <td>N</td>\n",
              "    </tr>\n",
              "    <tr>\n",
              "      <th>7</th>\n",
              "      <td>c-4</td>\n",
              "      <td>c-29</td>\n",
              "      <td>c-6</td>\n",
              "      <td>635</td>\n",
              "      <td>OH</td>\n",
              "      <td>MSP</td>\n",
              "      <td>CVG</td>\n",
              "      <td>596</td>\n",
              "      <td>N</td>\n",
              "    </tr>\n",
              "    <tr>\n",
              "      <th>8</th>\n",
              "      <td>c-7</td>\n",
              "      <td>c-28</td>\n",
              "      <td>c-5</td>\n",
              "      <td>735</td>\n",
              "      <td>AA</td>\n",
              "      <td>ONT</td>\n",
              "      <td>DFW</td>\n",
              "      <td>1189</td>\n",
              "      <td>N</td>\n",
              "    </tr>\n",
              "    <tr>\n",
              "      <th>9</th>\n",
              "      <td>c-6</td>\n",
              "      <td>c-20</td>\n",
              "      <td>c-2</td>\n",
              "      <td>2029</td>\n",
              "      <td>OO</td>\n",
              "      <td>DEN</td>\n",
              "      <td>PSC</td>\n",
              "      <td>853</td>\n",
              "      <td>N</td>\n",
              "    </tr>\n",
              "  </tbody>\n",
              "</table>\n",
              "</div>\n",
              "      <button class=\"colab-df-convert\" onclick=\"convertToInteractive('df-9286f267-a86b-4ba3-9c6c-9642dc03fcdf')\"\n",
              "              title=\"Convert this dataframe to an interactive table.\"\n",
              "              style=\"display:none;\">\n",
              "        \n",
              "  <svg xmlns=\"http://www.w3.org/2000/svg\" height=\"24px\"viewBox=\"0 0 24 24\"\n",
              "       width=\"24px\">\n",
              "    <path d=\"M0 0h24v24H0V0z\" fill=\"none\"/>\n",
              "    <path d=\"M18.56 5.44l.94 2.06.94-2.06 2.06-.94-2.06-.94-.94-2.06-.94 2.06-2.06.94zm-11 1L8.5 8.5l.94-2.06 2.06-.94-2.06-.94L8.5 2.5l-.94 2.06-2.06.94zm10 10l.94 2.06.94-2.06 2.06-.94-2.06-.94-.94-2.06-.94 2.06-2.06.94z\"/><path d=\"M17.41 7.96l-1.37-1.37c-.4-.4-.92-.59-1.43-.59-.52 0-1.04.2-1.43.59L10.3 9.45l-7.72 7.72c-.78.78-.78 2.05 0 2.83L4 21.41c.39.39.9.59 1.41.59.51 0 1.02-.2 1.41-.59l7.78-7.78 2.81-2.81c.8-.78.8-2.07 0-2.86zM5.41 20L4 18.59l7.72-7.72 1.47 1.35L5.41 20z\"/>\n",
              "  </svg>\n",
              "      </button>\n",
              "      \n",
              "  <style>\n",
              "    .colab-df-container {\n",
              "      display:flex;\n",
              "      flex-wrap:wrap;\n",
              "      gap: 12px;\n",
              "    }\n",
              "\n",
              "    .colab-df-convert {\n",
              "      background-color: #E8F0FE;\n",
              "      border: none;\n",
              "      border-radius: 50%;\n",
              "      cursor: pointer;\n",
              "      display: none;\n",
              "      fill: #1967D2;\n",
              "      height: 32px;\n",
              "      padding: 0 0 0 0;\n",
              "      width: 32px;\n",
              "    }\n",
              "\n",
              "    .colab-df-convert:hover {\n",
              "      background-color: #E2EBFA;\n",
              "      box-shadow: 0px 1px 2px rgba(60, 64, 67, 0.3), 0px 1px 3px 1px rgba(60, 64, 67, 0.15);\n",
              "      fill: #174EA6;\n",
              "    }\n",
              "\n",
              "    [theme=dark] .colab-df-convert {\n",
              "      background-color: #3B4455;\n",
              "      fill: #D2E3FC;\n",
              "    }\n",
              "\n",
              "    [theme=dark] .colab-df-convert:hover {\n",
              "      background-color: #434B5C;\n",
              "      box-shadow: 0px 1px 3px 1px rgba(0, 0, 0, 0.15);\n",
              "      filter: drop-shadow(0px 1px 2px rgba(0, 0, 0, 0.3));\n",
              "      fill: #FFFFFF;\n",
              "    }\n",
              "  </style>\n",
              "\n",
              "      <script>\n",
              "        const buttonEl =\n",
              "          document.querySelector('#df-9286f267-a86b-4ba3-9c6c-9642dc03fcdf button.colab-df-convert');\n",
              "        buttonEl.style.display =\n",
              "          google.colab.kernel.accessAllowed ? 'block' : 'none';\n",
              "\n",
              "        async function convertToInteractive(key) {\n",
              "          const element = document.querySelector('#df-9286f267-a86b-4ba3-9c6c-9642dc03fcdf');\n",
              "          const dataTable =\n",
              "            await google.colab.kernel.invokeFunction('convertToInteractive',\n",
              "                                                     [key], {});\n",
              "          if (!dataTable) return;\n",
              "\n",
              "          const docLinkHtml = 'Like what you see? Visit the ' +\n",
              "            '<a target=\"_blank\" href=https://colab.research.google.com/notebooks/data_table.ipynb>data table notebook</a>'\n",
              "            + ' to learn more about interactive tables.';\n",
              "          element.innerHTML = '';\n",
              "          dataTable['output_type'] = 'display_data';\n",
              "          await google.colab.output.renderOutput(dataTable, element);\n",
              "          const docLink = document.createElement('div');\n",
              "          docLink.innerHTML = docLinkHtml;\n",
              "          element.appendChild(docLink);\n",
              "        }\n",
              "      </script>\n",
              "    </div>\n",
              "  </div>\n",
              "  "
            ]
          },
          "metadata": {},
          "execution_count": 5
        }
      ],
      "source": [
        "import pandas as pd\n",
        "import numpy as np\n",
        "\n",
        "flight_data = pd.read_csv('drive/MyDrive/data_engineering/flight_delays.csv')\n",
        "flight_data.head(10)"
      ]
    },
    {
      "cell_type": "markdown",
      "source": [
        "# Задача №1"
      ],
      "metadata": {
        "id": "KhHco9TWgiAs"
      }
    },
    {
      "cell_type": "code",
      "source": [
        "HTML(\"<span style='font-weight:bold; font-size:16px; font-style: italic'>\"\n",
        "\"Найти долю всех задержек ко всем вылетам\")"
      ],
      "metadata": {
        "colab": {
          "base_uri": "https://localhost:8080/",
          "height": 37
        },
        "id": "cSoj-kFQgnz7",
        "outputId": "37849685-e0e3-4905-9969-edb76dd0f7fc"
      },
      "execution_count": 132,
      "outputs": [
        {
          "output_type": "execute_result",
          "data": {
            "text/plain": [
              "<IPython.core.display.HTML object>"
            ],
            "text/html": [
              "<span style='font-weight:bold; font-size:16px; font-style: italic'>Найти долю всех задержек ко всем вылетам"
            ]
          },
          "metadata": {},
          "execution_count": 132
        }
      ]
    },
    {
      "cell_type": "code",
      "source": [
        "total_flights = flight_data.index.max() + 1\n",
        "delayed_flights = flight_data[flight_data[\"dep_delayed_15min\"] == 'Y'][\"dep_delayed_15min\"].count()\n",
        "proportion_flights = delayed_flights / total_flights\n",
        "print(proportion_flights)"
      ],
      "metadata": {
        "colab": {
          "base_uri": "https://localhost:8080/"
        },
        "id": "46zl2tXN-qzP",
        "outputId": "2667cb87-564b-4377-8ec1-8ea104d5744e"
      },
      "execution_count": 22,
      "outputs": [
        {
          "output_type": "stream",
          "name": "stdout",
          "text": [
            "0.19044\n"
          ]
        }
      ]
    },
    {
      "cell_type": "markdown",
      "source": [
        "# Задача №2"
      ],
      "metadata": {
        "id": "l_phsSeOBGx_"
      }
    },
    {
      "cell_type": "code",
      "source": [
        "HTML(\"<span style='font-weight:bold; font-size:16px; font-style: italic'>\"\n",
        "\"Найти зависимость количества задержек от длины пути, который предстоит пролететь самолету\")"
      ],
      "metadata": {
        "colab": {
          "base_uri": "https://localhost:8080/",
          "height": 37
        },
        "id": "XRQUDxZGhgOk",
        "outputId": "d61c8c0a-d7cf-41cd-940e-6b0bd09523f7"
      },
      "execution_count": 131,
      "outputs": [
        {
          "output_type": "execute_result",
          "data": {
            "text/plain": [
              "<IPython.core.display.HTML object>"
            ],
            "text/html": [
              "<span style='font-weight:bold; font-size:16px; font-style: italic'>Найти зависимость количества задержек от длины пути, который предстоит пролететь самолету"
            ]
          },
          "metadata": {},
          "execution_count": 131
        }
      ]
    },
    {
      "cell_type": "code",
      "source": [
        "flight_data.delayed = 1 * flight_data[\"dep_delayed_15min\"].eq('Y')\n",
        "# Определяем корреляцию данных между 2 столбцами\n",
        "flight_data[\"Distance\"].corr(flight_data.delayed)\n",
        "# Значение крайне низкое => зависимость несущественная"
      ],
      "metadata": {
        "colab": {
          "base_uri": "https://localhost:8080/"
        },
        "id": "faiwJO_SBVlT",
        "outputId": "65feadac-2b2e-4100-e116-69f76d438ddf"
      },
      "execution_count": 37,
      "outputs": [
        {
          "output_type": "execute_result",
          "data": {
            "text/plain": [
              "-0.0027342966845767033"
            ]
          },
          "metadata": {},
          "execution_count": 37
        }
      ]
    },
    {
      "cell_type": "markdown",
      "source": [
        "# Задача №3"
      ],
      "metadata": {
        "id": "SvdptVXTGZBe"
      }
    },
    {
      "cell_type": "code",
      "source": [
        "HTML(\"<span style='font-weight:bold; font-size:16px; font-style: italic'>\"\n",
        "\"Найти топ 5 направлений, для которых чаще всего происходят задержки\")"
      ],
      "metadata": {
        "colab": {
          "base_uri": "https://localhost:8080/",
          "height": 37
        },
        "id": "lzcU-HHfh6qU",
        "outputId": "6de60b0d-4e77-49ca-90ba-f7332b990efc"
      },
      "execution_count": 133,
      "outputs": [
        {
          "output_type": "execute_result",
          "data": {
            "text/plain": [
              "<IPython.core.display.HTML object>"
            ],
            "text/html": [
              "<span style='font-weight:bold; font-size:16px; font-style: italic'>Найти топ 5 направлений, для которых чаще всего происходят задержки"
            ]
          },
          "metadata": {},
          "execution_count": 133
        }
      ]
    },
    {
      "cell_type": "code",
      "source": [
        "dest_array = flight_data[(flight_data[\"dep_delayed_15min\"] == \"Y\")][\"Dest\"].unique()\n",
        "dest_obj = {}\n",
        "for next_data in dest_array:\n",
        "  dest_obj[next_data] = 0\n",
        "\n",
        "for i in range(0, total_flights):\n",
        "  if flight_data.loc[i][\"dep_delayed_15min\"] == \"Y\":\n",
        "    for next_station in dest_obj:\n",
        "      if flight_data.loc[i][\"Dest\"] == next_station:\n",
        "        dest_obj[next_station] += 1\n",
        "        break\n",
        "\n",
        "print(sorted(dest_obj.items(), key = lambda amount: amount[1], reverse=True)[:5])\n",
        "\n",
        "# Делает тоже самое, но быстрее\n",
        "# flight_data[flight_data['dep_delayed_15min'].eq('Y')]['Dest'].value_counts()[:5]"
      ],
      "metadata": {
        "colab": {
          "base_uri": "https://localhost:8080/"
        },
        "id": "TKWPbF4MHFQ8",
        "outputId": "d1d3e075-e0d6-45d6-f5fb-07ec7d1caa82"
      },
      "execution_count": 87,
      "outputs": [
        {
          "output_type": "stream",
          "name": "stdout",
          "text": [
            "[('ATL', 1281), ('ORD', 1072), ('DFW', 656), ('EWR', 584), ('LAX', 525)]\n"
          ]
        }
      ]
    },
    {
      "cell_type": "markdown",
      "source": [
        "# Задача №4"
      ],
      "metadata": {
        "id": "xGZDyH2QXNW3"
      }
    },
    {
      "cell_type": "code",
      "source": [
        "HTML(\"<span style='font-weight:bold; font-size:16px; font-style: italic'>\"\n",
        "\"В какие времена года чаще всего происходят задержки рейсов\")"
      ],
      "metadata": {
        "colab": {
          "base_uri": "https://localhost:8080/",
          "height": 37
        },
        "id": "lwQNg7nQiWi7",
        "outputId": "c9ae1184-f2aa-4506-9cc0-3134c85a497e"
      },
      "execution_count": 134,
      "outputs": [
        {
          "output_type": "execute_result",
          "data": {
            "text/plain": [
              "<IPython.core.display.HTML object>"
            ],
            "text/html": [
              "<span style='font-weight:bold; font-size:16px; font-style: italic'>В какие времена года чаще всего происходят задержки рейсов"
            ]
          },
          "metadata": {},
          "execution_count": 134
        }
      ]
    },
    {
      "cell_type": "code",
      "source": [
        "flight_delayed = flight_data[flight_data[\"dep_delayed_15min\"] == \"Y\"]\n",
        "\n",
        "def get_season(obj):\n",
        "  month = int(obj[\"Month\"][2:])\n",
        "  if month in [1, 2, 12]:\n",
        "    return \"Winter\"\n",
        "  elif month in [3, 4, 5]:\n",
        "    return \"Spring\"\n",
        "  elif month in [6, 7, 8]:\n",
        "    return \"Summer\"\n",
        "  elif month in [9, 10, 11]:\n",
        "    return \"Autumn\"\n",
        "  else:\n",
        "    return \"Unknown\"\n",
        "\n",
        "flight_delayed.apply(get_season, axis = 1).value_counts()"
      ],
      "metadata": {
        "colab": {
          "base_uri": "https://localhost:8080/"
        },
        "id": "Mk2zGV9eXSEI",
        "outputId": "bb696f22-db2a-4c06-c349-cd07d5ebd3fd"
      },
      "execution_count": 91,
      "outputs": [
        {
          "output_type": "execute_result",
          "data": {
            "text/plain": [
              "Summer    5723\n",
              "Winter    4849\n",
              "Spring    4295\n",
              "Autumn    4177\n",
              "dtype: int64"
            ]
          },
          "metadata": {},
          "execution_count": 91
        }
      ]
    },
    {
      "cell_type": "markdown",
      "source": [
        "# Задача №5"
      ],
      "metadata": {
        "id": "LMYUrgn9aFo2"
      }
    },
    {
      "cell_type": "code",
      "source": [
        "HTML(\"<span style='font-weight:bold; font-size:16px; font-style: italic'>\"\n",
        "\"Найти топ 10 самых хороших перевозчиков, которые реже всего задерживают свои рейсы\")"
      ],
      "metadata": {
        "colab": {
          "base_uri": "https://localhost:8080/",
          "height": 37
        },
        "id": "b6mWfmR4igyj",
        "outputId": "0ac42eb1-8f2d-4f21-e452-80e5c3e94de6"
      },
      "execution_count": 135,
      "outputs": [
        {
          "output_type": "execute_result",
          "data": {
            "text/plain": [
              "<IPython.core.display.HTML object>"
            ],
            "text/html": [
              "<span style='font-weight:bold; font-size:16px; font-style: italic'>Найти топ 10 самых хороших перевозчиков, которые реже всего задерживают свои рейсы"
            ]
          },
          "metadata": {},
          "execution_count": 135
        }
      ]
    },
    {
      "cell_type": "code",
      "source": [
        "flight_delayed['UniqueCarrier'].value_counts()[-1:-11:-1]"
      ],
      "metadata": {
        "colab": {
          "base_uri": "https://localhost:8080/"
        },
        "id": "2p1ZMCqjaKnX",
        "outputId": "c8f74253-6977-4541-f9db-9d5583931f08"
      },
      "execution_count": 97,
      "outputs": [
        {
          "output_type": "execute_result",
          "data": {
            "text/plain": [
              "AQ     18\n",
              "HA     33\n",
              "TZ     64\n",
              "DH    156\n",
              "F9    156\n",
              "HP    196\n",
              "B6    393\n",
              "YV    478\n",
              "AS    541\n",
              "FL    736\n",
              "Name: UniqueCarrier, dtype: int64"
            ]
          },
          "metadata": {},
          "execution_count": 97
        }
      ]
    },
    {
      "cell_type": "markdown",
      "source": [
        "# Задача №6"
      ],
      "metadata": {
        "id": "DajRb9s7bIjX"
      }
    },
    {
      "cell_type": "code",
      "source": [
        "HTML(\"<span style='font-weight:bold; font-size:16px; font-style: italic'>\"\n",
        "\"Найти топ 10 самых безответственных аэропортов, в которых чаще всего происходят задержки\")"
      ],
      "metadata": {
        "colab": {
          "base_uri": "https://localhost:8080/",
          "height": 37
        },
        "id": "97AxLaZ6iyGs",
        "outputId": "99a37844-4bfd-4085-e78b-bf007d01321f"
      },
      "execution_count": 136,
      "outputs": [
        {
          "output_type": "execute_result",
          "data": {
            "text/plain": [
              "<IPython.core.display.HTML object>"
            ],
            "text/html": [
              "<span style='font-weight:bold; font-size:16px; font-style: italic'>Найти топ 10 самых безответственных аэропортов, в которых чаще всего происходят задержки"
            ]
          },
          "metadata": {},
          "execution_count": 136
        }
      ]
    },
    {
      "cell_type": "code",
      "source": [
        "flight_delayed['Origin'].value_counts()[:10]"
      ],
      "metadata": {
        "colab": {
          "base_uri": "https://localhost:8080/"
        },
        "id": "IZfiau_ZbQws",
        "outputId": "5d0fe408-0815-4123-940a-df6f886d383a"
      },
      "execution_count": 98,
      "outputs": [
        {
          "output_type": "execute_result",
          "data": {
            "text/plain": [
              "ATL    1506\n",
              "ORD    1254\n",
              "DFW     902\n",
              "DEN     575\n",
              "LAX     552\n",
              "LAS     546\n",
              "EWR     538\n",
              "IAH     492\n",
              "PHX     491\n",
              "DTW     401\n",
              "Name: Origin, dtype: int64"
            ]
          },
          "metadata": {},
          "execution_count": 98
        }
      ]
    }
  ]
}