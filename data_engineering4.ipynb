{
  "nbformat": 4,
  "nbformat_minor": 0,
  "metadata": {
    "colab": {
      "provenance": [],
      "toc_visible": true,
      "authorship_tag": "ABX9TyNVA1/xBCUXAc+vOmeYfPiM",
      "include_colab_link": true
    },
    "kernelspec": {
      "name": "python3",
      "display_name": "Python 3"
    },
    "language_info": {
      "name": "python"
    }
  },
  "cells": [
    {
      "cell_type": "markdown",
      "metadata": {
        "id": "view-in-github",
        "colab_type": "text"
      },
      "source": [
        "<a href=\"https://colab.research.google.com/github/badstyle-goodstyle/data_engineering/blob/data_engine/data_engineering4.ipynb\" target=\"_parent\"><img src=\"https://colab.research.google.com/assets/colab-badge.svg\" alt=\"Open In Colab\"/></a>"
      ]
    },
    {
      "cell_type": "markdown",
      "source": [
        "# Упражнение:"
      ],
      "metadata": {
        "id": "ZnG2_VOVHXyd"
      }
    },
    {
      "cell_type": "markdown",
      "source": [
        "## Создайте таблицы с указанными столбцами и заполните их произвольными данными."
      ],
      "metadata": {
        "id": "pEoWxXCfHmJ0"
      }
    },
    {
      "cell_type": "markdown",
      "source": [
        "1. Books (id, author, title, publish_year).\n",
        "2. Readers (id, name).\n",
        "3. Records (reader_id, book_id, taking_date, returning_date)."
      ],
      "metadata": {
        "id": "o64W-HYpqaaF"
      }
    },
    {
      "cell_type": "code",
      "execution_count": 47,
      "metadata": {
        "id": "VGTUvozyWFIW"
      },
      "outputs": [],
      "source": [
        "import sqlite3\n",
        "\n",
        "CREATE_DATA = \"\"\"\n",
        "CREATE TABLE IF NOT EXISTS books (\n",
        "  id integer PRIMARY KEY,\n",
        "  author text NOT NULL,\n",
        "  title text NOT NULL,\n",
        "  published_year integer NOT NULL\n",
        "); \n",
        "\n",
        "CREATE TABLE IF NOT EXISTS readers (\n",
        "  id integer PRIMARY KEY,\n",
        "  name text NOT NULL\n",
        ");\n",
        "\n",
        "CREATE TABLE IF NOT EXISTS records (\n",
        "  reader_id integer NOT NULL,\n",
        "  book_id integer NOT NULL,\n",
        "  taking_date text,\n",
        "  returning_date text,\n",
        "  FOREIGN KEY (reader_id) REFERENCES readers (id),\n",
        "  FOREIGN KEY (book_id) REFERENCES books (id)\n",
        ")\n",
        "\"\"\"\n",
        "\n",
        "ADD_BOOK = \"\"\" \n",
        "INSERT INTO books(author, title, published_year)\n",
        "  VALUES (?, ?, ?);\n",
        "\"\"\"\n",
        "\n",
        "ADDING_BOOKS = [\n",
        "    ('Л. Н. Толстой', 'Война и мир', 1867),\n",
        "    ('Ф. М. Достоевский', 'Преступление и наказание', 1866),\n",
        "    ('Ф. К. Дик', 'Мы вас построим', 2020)\n",
        "]\n",
        "\n",
        "ADD_READER = \"\"\" \n",
        "INSERT INTO readers (name)\n",
        "  VALUES (?);\n",
        "\"\"\"\n",
        "\n",
        "ADDING_READERS = [\n",
        "    ('Шка Иванов',),\n",
        "    ('Фёдор Лысый',)\n",
        "]\n",
        "\n",
        "ADD_RECORD = \"\"\" \n",
        "INSERT INTO records(reader_id, book_id)\n",
        "  VALUES (?, ?);\n",
        "\"\"\"\n",
        "\n",
        "reader_id = 1\n",
        "book_id = 1\n",
        "date_to_give_a_book = '2022-12-06'\n",
        "date_to_take_a_book = '2022-12-31'\n",
        "\n",
        "ALTER_RECORD_GIVING = \"\"\"\n",
        "UPDATE records\n",
        "  SET taking_date = ?\n",
        "    WHERE reader_id = ? AND book_id = ?;\n",
        "\"\"\"\n",
        "\n",
        "ALTER_RECORD_RETURNING = \"\"\"\n",
        "UPDATE records\n",
        "  SET returning_date = ?\n",
        "    WHERE reader_id = ? AND book_id = ?;\n",
        "\"\"\"\n",
        "\n",
        "RECORD_GIVING_DATA = (date_to_give_a_book, reader_id, book_id)\n",
        "RECORD_RETURNING_DATA = (date_to_take_a_book, reader_id, book_id)\n",
        "\n",
        "ADDING_ONE_RECORD = (reader_id, book_id)\n",
        "\n",
        "ids_to_delete = [_ for _ in range(10)]\n",
        "\n",
        "CLEAR_BOOK_SHELF = \"\"\"\n",
        "DELETE FROM books WHERE id IN {sql_list}\n",
        "\"\"\".format(sql_list=tuple(ids_to_delete))\n",
        "\n",
        "CLEAR_READER_LIST = \"\"\"\n",
        "DELETE FROM readers WHERE id IN {sql_list}\n",
        "\"\"\".format(sql_list=tuple(ids_to_delete))\n",
        "\n",
        "CLEAR_RECORD_LIST = \"\"\"\n",
        "DELETE FROM records WHERE reader_id IN {sql_list}\n",
        "\"\"\".format(sql_list=tuple(ids_to_delete))\n",
        "\n",
        "SELECT_ALL_BOOKS = \"\"\"\n",
        "SELECT * FROM books;\n",
        "\"\"\"\n",
        "\n",
        "SELECT_ALL_READERS = \"\"\"\n",
        "SELECT * FROM readers;\n",
        "\"\"\"\n",
        "\n",
        "SELECT_ALL_RECORDS = \"\"\"\n",
        "SELECT * FROM records;\n",
        "\"\"\""
      ]
    },
    {
      "cell_type": "code",
      "source": [
        "connection = sqlite3.connect(\"my_data.db\")\n",
        "cursor = connection.cursor()\n",
        "\n",
        "cursor.executescript(CREATE_DATA)\n",
        "connection.close()"
      ],
      "metadata": {
        "id": "rGosbEw61BGd"
      },
      "execution_count": 48,
      "outputs": []
    },
    {
      "cell_type": "markdown",
      "source": [
        "# Задача №1:"
      ],
      "metadata": {
        "id": "SLGcAJ97ICxp"
      }
    },
    {
      "cell_type": "markdown",
      "source": [
        "## Вывести список книг."
      ],
      "metadata": {
        "id": "SVRSSDKIIL5J"
      }
    },
    {
      "cell_type": "code",
      "source": [
        "connection = sqlite3.connect(\"my_data.db\")\n",
        "cursor = connection.cursor()\n",
        "\n",
        "cursor.execute(CLEAR_BOOK_SHELF)\n",
        "cursor.executemany(ADD_BOOK, ADDING_BOOKS)\n",
        "connection.commit()\n",
        "\n",
        "data = cursor.execute(SELECT_ALL_BOOKS).fetchall()\n",
        "print(data)\n",
        "\n",
        "connection.close()"
      ],
      "metadata": {
        "colab": {
          "base_uri": "https://localhost:8080/"
        },
        "id": "xt-3JIlm6bPy",
        "outputId": "fd18983e-c6e9-42b9-e05a-e2e77937a034"
      },
      "execution_count": 49,
      "outputs": [
        {
          "output_type": "stream",
          "name": "stdout",
          "text": [
            "[(1, 'Л. Н. Толстой', 'Война и мир', 1867), (2, 'Ф. М. Достоевский', 'Преступление и наказание', 1866), (3, 'Ф. К. Дик', 'Мы вас построим', 2020)]\n"
          ]
        }
      ]
    },
    {
      "cell_type": "markdown",
      "source": [
        "# Задача №2:"
      ],
      "metadata": {
        "id": "s3l9XEN4IaPM"
      }
    },
    {
      "cell_type": "markdown",
      "source": [
        "## Вывести список читателей."
      ],
      "metadata": {
        "id": "M13JY_ExIfX_"
      }
    },
    {
      "cell_type": "code",
      "source": [
        "connection = sqlite3.connect(\"my_data.db\")\n",
        "cursor = connection.cursor()\n",
        "\n",
        "cursor.execute(CLEAR_READER_LIST)\n",
        "cursor.executemany(ADD_READER, ADDING_READERS)\n",
        "connection.commit()\n",
        "\n",
        "data = cursor.execute(SELECT_ALL_READERS).fetchall()\n",
        "print(data)\n",
        "\n",
        "connection.close()\n"
      ],
      "metadata": {
        "colab": {
          "base_uri": "https://localhost:8080/"
        },
        "id": "u4gXDV7k1FED",
        "outputId": "772aaa02-90e4-46c0-b490-ebe0826a31cd"
      },
      "execution_count": 50,
      "outputs": [
        {
          "output_type": "stream",
          "name": "stdout",
          "text": [
            "[(1, 'Шка Иванов'), (2, 'Фёдор Лысый')]\n"
          ]
        }
      ]
    },
    {
      "cell_type": "markdown",
      "source": [
        "# Задача №3:"
      ],
      "metadata": {
        "id": "M4dnmzc1NZLd"
      }
    },
    {
      "cell_type": "markdown",
      "source": [
        "## Добавить книгу."
      ],
      "metadata": {
        "id": "dU0TqzxbNdim"
      }
    },
    {
      "cell_type": "code",
      "source": [
        "connection = sqlite3.connect(\"my_data.db\")\n",
        "cursor = connection.cursor()\n",
        "\n",
        "NEW_author = 'В. Г. Сорокин'\n",
        "NEW_title = 'Сахарный Кремль'\n",
        "NEW_published_year = 2008\n",
        "\n",
        "DELETE_EXISTED_BOOK = \"\"\"\n",
        "DELETE FROM books WHERE author = '{new_author}' AND title = '{new_title}';\n",
        "\"\"\".format(new_author=NEW_author, new_title=NEW_title)\n",
        "\n",
        "cursor.execute(DELETE_EXISTED_BOOK)\n",
        "\n",
        "NEW_BOOK = (NEW_author, NEW_title, NEW_published_year)\n",
        "cursor.execute(ADD_BOOK, NEW_BOOK)\n",
        "connection.commit()\n",
        "\n",
        "data = cursor.execute(SELECT_ALL_BOOKS).fetchall()\n",
        "for row in data:\n",
        "  print(row)\n",
        "\n",
        "connection.close()"
      ],
      "metadata": {
        "colab": {
          "base_uri": "https://localhost:8080/"
        },
        "id": "y6vBZpug3y_b",
        "outputId": "c2c38392-a73f-484f-b55c-0c95eea0cce1"
      },
      "execution_count": 53,
      "outputs": [
        {
          "output_type": "stream",
          "name": "stdout",
          "text": [
            "(1, 'Л. Н. Толстой', 'Война и мир', 1867)\n",
            "(2, 'Ф. М. Достоевский', 'Преступление и наказание', 1866)\n",
            "(3, 'Ф. К. Дик', 'Мы вас построим', 2020)\n",
            "(4, 'В. Г. Сорокин', 'Сахарный Кремль', 2008)\n"
          ]
        }
      ]
    },
    {
      "cell_type": "markdown",
      "source": [
        "# Задача №4:"
      ],
      "metadata": {
        "id": "ZqzOseuENlJL"
      }
    },
    {
      "cell_type": "markdown",
      "source": [
        "## Добавить книгу."
      ],
      "metadata": {
        "id": "ABDQUg4kNrjD"
      }
    },
    {
      "cell_type": "code",
      "source": [
        "connection = sqlite3.connect(\"my_data.db\")\n",
        "cursor = connection.cursor()\n",
        "\n",
        "NEW_READER = ('Андрей Данилович Комяга',)\n",
        "\n",
        "DELETE_EXISTED_READER = \"\"\"\n",
        "DELETE FROM readers WHERE name = '{new_reader}';\n",
        "\"\"\".format(new_reader=NEW_READER[0])\n",
        "\n",
        "cursor.execute(DELETE_EXISTED_READER)\n",
        "\n",
        "cursor.execute(ADD_READER, NEW_READER)\n",
        "connection.commit()\n",
        "\n",
        "data = cursor.execute(SELECT_ALL_READERS).fetchall()\n",
        "print(data)\n",
        "\n",
        "connection.close()"
      ],
      "metadata": {
        "colab": {
          "base_uri": "https://localhost:8080/"
        },
        "id": "UoGcsc7Y4k19",
        "outputId": "a078eaa3-e180-4891-c343-3695b2b654a0"
      },
      "execution_count": 59,
      "outputs": [
        {
          "output_type": "stream",
          "name": "stdout",
          "text": [
            "[(1, 'Шка Иванов'), (2, 'Фёдор Лысый'), (3, 'Андрей Данилович Комяга')]\n"
          ]
        }
      ]
    },
    {
      "cell_type": "markdown",
      "source": [
        "# Задачи №5 и №6:"
      ],
      "metadata": {
        "id": "WeNlhz9yNzbW"
      }
    },
    {
      "cell_type": "markdown",
      "source": [
        "## а) выдать книгу читателю;    б) принять книгу."
      ],
      "metadata": {
        "id": "QfvlH_y9N9CQ"
      }
    },
    {
      "cell_type": "code",
      "source": [
        "connection = sqlite3.connect(\"my_data.db\")\n",
        "cursor = connection.cursor()\n",
        "\n",
        "cursor.execute(CLEAR_RECORD_LIST)\n",
        "cursor.execute(ADD_RECORD, ADDING_ONE_RECORD)\n",
        "connection.commit()\n",
        "\n",
        "data = cursor.execute(SELECT_ALL_RECORDS).fetchall()\n",
        "print(f'1. После создания записи: {data}')\n",
        "\n",
        "# а:\n",
        "cursor.execute(ALTER_RECORD_GIVING, RECORD_GIVING_DATA)\n",
        "connection.commit()\n",
        "\n",
        "data = cursor.execute(SELECT_ALL_RECORDS).fetchall()\n",
        "print(f'2. После добавления времени отдачи книги в записи: {data}')\n",
        "\n",
        "# б:\n",
        "cursor.execute(ALTER_RECORD_RETURNING, RECORD_RETURNING_DATA)\n",
        "connection.commit()\n",
        "\n",
        "data = cursor.execute(SELECT_ALL_RECORDS).fetchall()\n",
        "print(f'3. После добавления времени возврата книги в записи: {data}')\n",
        "\n",
        "connection.close()"
      ],
      "metadata": {
        "colab": {
          "base_uri": "https://localhost:8080/"
        },
        "id": "BxTFfwJc5OSW",
        "outputId": "88a97135-5a3d-4736-a3ad-dc40ec7ed260"
      },
      "execution_count": 63,
      "outputs": [
        {
          "output_type": "stream",
          "name": "stdout",
          "text": [
            "1. После создания записи: [(1, 1, None, None)]\n",
            "2. После добавления времени отдачи книги в записи: [(1, 1, '2022-12-06', None)]\n",
            "3. После добавления времени возврата книги в записи: [(1, 1, '2022-12-06', '2022-12-31')]\n"
          ]
        }
      ]
    }
  ]
}